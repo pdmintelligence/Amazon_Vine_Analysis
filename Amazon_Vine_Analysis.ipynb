{
  "nbformat": 4,
  "nbformat_minor": 0,
  "metadata": {
    "colab": {
      "name": "Amazon_Vine_Analysis.ipynb",
      "provenance": [],
      "collapsed_sections": []
    },
    "kernelspec": {
      "name": "python3",
      "display_name": "Python 3"
    },
    "nteract": {
      "version": "0.12.3"
    },
    "language_info": {
      "name": "python"
    }
  },
  "cells": [
    {
      "cell_type": "code",
      "metadata": {
        "id": "V58rxea0HqSa",
        "colab": {
          "base_uri": "https://localhost:8080/"
        },
        "outputId": "58538731-1b6d-48e0-dc9d-1744c110dc87"
      },
      "source": [
        "import os\n",
        "# Find the latest version of spark 3.0 from http://www.apache.org/dist/spark/ and enter as the spark version\n",
        "# For example:\n",
        "# spark_version = 'spark-3.0.3'\n",
        "spark_version = 'spark-3.0.3'\n",
        "os.environ['SPARK_VERSION']=spark_version\n",
        "\n",
        "# Install Spark and Java\n",
        "!apt-get update\n",
        "!apt-get install openjdk-11-jdk-headless -qq > /dev/null\n",
        "!wget -q http://www.apache.org/dist/spark/$SPARK_VERSION/$SPARK_VERSION-bin-hadoop2.7.tgz\n",
        "!tar xf $SPARK_VERSION-bin-hadoop2.7.tgz\n",
        "!pip install -q findspark\n",
        "\n",
        "# Set Environment Variables\n",
        "import os\n",
        "os.environ[\"JAVA_HOME\"] = \"/usr/lib/jvm/java-11-openjdk-amd64\"\n",
        "os.environ[\"SPARK_HOME\"] = f\"/content/{spark_version}-bin-hadoop2.7\"\n",
        "\n",
        "# Start a SparkSession\n",
        "import findspark\n",
        "findspark.init()"
      ],
      "execution_count": 1,
      "outputs": [
        {
          "output_type": "stream",
          "name": "stdout",
          "text": [
            "\r0% [Working]\r            \rGet:1 https://cloud.r-project.org/bin/linux/ubuntu bionic-cran40/ InRelease [3,626 B]\n",
            "\r0% [Waiting for headers] [Waiting for headers] [1 InRelease 0 B/3,626 B 0%] [Wa\r0% [Waiting for headers] [Waiting for headers] [Waiting for headers] [Waiting f\r                                                                               \rGet:2 https://developer.download.nvidia.com/compute/cuda/repos/ubuntu1804/x86_64  InRelease [1,581 B]\n",
            "\r0% [Waiting for headers] [Waiting for headers] [Waiting for headers] [Waiting f\r0% [1 InRelease gpgv 3,626 B] [Waiting for headers] [Waiting for headers] [Wait\r                                                                               \rGet:3 http://ppa.launchpad.net/c2d4u.team/c2d4u4.0+/ubuntu bionic InRelease [15.9 kB]\n",
            "\r0% [1 InRelease gpgv 3,626 B] [Waiting for headers] [Waiting for headers] [3 In\r                                                                               \rHit:4 http://archive.ubuntu.com/ubuntu bionic InRelease\n",
            "\r0% [1 InRelease gpgv 3,626 B] [Waiting for headers] [3 InRelease 2,572 B/15.9 k\r                                                                               \rGet:5 http://security.ubuntu.com/ubuntu bionic-security InRelease [88.7 kB]\n",
            "\r0% [1 InRelease gpgv 3,626 B] [Waiting for headers] [5 InRelease 14.2 kB/88.7 k\r                                                                               \rIgn:6 https://developer.download.nvidia.com/compute/machine-learning/repos/ubuntu1804/x86_64  InRelease\n",
            "\r0% [1 InRelease gpgv 3,626 B] [Waiting for headers] [5 InRelease 14.2 kB/88.7 k\r                                                                               \rHit:7 https://developer.download.nvidia.com/compute/machine-learning/repos/ubuntu1804/x86_64  Release\n",
            "Get:8 http://archive.ubuntu.com/ubuntu bionic-updates InRelease [88.7 kB]\n",
            "Hit:9 http://ppa.launchpad.net/cran/libgit2/ubuntu bionic InRelease\n",
            "Get:10 http://archive.ubuntu.com/ubuntu bionic-backports InRelease [74.6 kB]\n",
            "Get:11 http://ppa.launchpad.net/deadsnakes/ppa/ubuntu bionic InRelease [15.9 kB]\n",
            "Get:12 https://cloud.r-project.org/bin/linux/ubuntu bionic-cran40/ Packages [85.2 kB]\n",
            "Get:13 http://ppa.launchpad.net/graphics-drivers/ppa/ubuntu bionic InRelease [21.3 kB]\n",
            "Get:14 https://developer.download.nvidia.com/compute/cuda/repos/ubuntu1804/x86_64  Packages [770 kB]\n",
            "Get:16 http://ppa.launchpad.net/c2d4u.team/c2d4u4.0+/ubuntu bionic/main Sources [1,957 kB]\n",
            "Get:17 http://security.ubuntu.com/ubuntu bionic-security/main amd64 Packages [2,762 kB]\n",
            "Get:18 http://ppa.launchpad.net/c2d4u.team/c2d4u4.0+/ubuntu bionic/main amd64 Packages [1,004 kB]\n",
            "Get:19 http://security.ubuntu.com/ubuntu bionic-security/restricted amd64 Packages [932 kB]\n",
            "Get:20 http://security.ubuntu.com/ubuntu bionic-security/universe amd64 Packages [1,503 kB]\n",
            "Get:21 http://archive.ubuntu.com/ubuntu bionic-updates/restricted amd64 Packages [966 kB]\n",
            "Get:22 http://archive.ubuntu.com/ubuntu bionic-updates/main amd64 Packages [3,197 kB]\n",
            "Get:23 http://archive.ubuntu.com/ubuntu bionic-updates/universe amd64 Packages [2,277 kB]\n",
            "Get:24 http://ppa.launchpad.net/deadsnakes/ppa/ubuntu bionic/main amd64 Packages [45.3 kB]\n",
            "Get:25 http://ppa.launchpad.net/graphics-drivers/ppa/ubuntu bionic/main amd64 Packages [44.3 kB]\n",
            "Fetched 15.9 MB in 5s (2,893 kB/s)\n",
            "Reading package lists... Done\n"
          ]
        }
      ]
    },
    {
      "cell_type": "code",
      "metadata": {
        "id": "MMqDAjVS0KN9"
      },
      "source": [
        "from pyspark.sql import SparkSession\n",
        "spark = SparkSession.builder.appName(\"M16-Amazon-Challenge\").config(\"spark.driver.extraClassPath\",\"/content/postgresql-42.2.16.jar\").getOrCreate()"
      ],
      "execution_count": 2,
      "outputs": []
    },
    {
      "cell_type": "code",
      "source": [
        "#getting datafiles*.\n",
        "from pyspark import SparkFiles\n",
        "url = \"https://pdmintelligence-databootcamp-bucket.s3.us-east-2.amazonaws.com/amazon_reviews_us_Digital_Ebook_Purchase_v1_01.tsv.gz\"\n",
        "spark.sparkContext.addFile(url)\n",
        "df = spark.read.option(\"encoding\", \"UTF-8\").csv(SparkFiles.get(\"\"), sep=\"\\t\", header=True, inferSchema=True)\n",
        "df.show()"
      ],
      "metadata": {
        "colab": {
          "base_uri": "https://localhost:8080/"
        },
        "id": "46mjIbXoLwE6",
        "outputId": "04e1f571-16ca-4316-a7f9-9eb85f5ca91a"
      },
      "execution_count": 3,
      "outputs": [
        {
          "output_type": "stream",
          "name": "stdout",
          "text": [
            "+-----------+-----------+--------------+----------+--------------+--------------------+--------------------+-----------+-------------+-----------+----+-----------------+--------------------+--------------------+-----------+\n",
            "|marketplace|customer_id|     review_id|product_id|product_parent|       product_title|    product_category|star_rating|helpful_votes|total_votes|vine|verified_purchase|     review_headline|         review_body|review_date|\n",
            "+-----------+-----------+--------------+----------+--------------+--------------------+--------------------+-----------+-------------+-----------+----+-----------------+--------------------+--------------------+-----------+\n",
            "|         US|   33605939| RGYFDX8QXKEIR|B007KO2MLO|     328837464|           Big Maria|Digital_Ebook_Pur...|          4|            0|          0|   N|                N|              Quirky|Elmore Leonard me...| 2013-09-09|\n",
            "|         US|   34058393|R13CBGTMNV9R8Z|B005FLODDE|     764276359|The Woman Who Was...|Digital_Ebook_Pur...|          4|            1|          2|   N|                Y|The Woman Who Was...|This book was ver...| 2013-09-09|\n",
            "|         US|   39601147| R7DRFHC0F71O0|B00EA3L35O|     535606445|Mary had A Sleepy...|Digital_Ebook_Pur...|          5|            0|          0|   N|                N|This Sleepy Sheep...|I had the opportu...| 2013-09-09|\n",
            "|         US|   17351407|R27LUKEXU3KBXQ|B00BL3JV50|     240053004|          Starstruck|Digital_Ebook_Pur...|          5|            1|          1|   N|                Y|Steamy and suspen...|What a great read...| 2013-09-09|\n",
            "|         US|   10463387|R1VXTPUYMNU687|B00CXU7U80|     931529805|The Complete Cona...|Digital_Ebook_Pur...|          5|            1|          2|   N|                N|          Barbarians|Barbarians need l...| 2013-09-09|\n",
            "|         US|   50484904|R30DKW1GJWLPZC|B004EWGS5G|     442453110|The Middle Passag...|Digital_Ebook_Pur...|          3|            1|          2|   N|                Y|            Menu....|It was okay obvio...| 2013-09-09|\n",
            "|         US|    7145636|R18DPFG2FALJI9|B00BNRJAT6|     856774152|Hide in Plain Sig...|Digital_Ebook_Pur...|          5|            0|          0|   N|                Y|        Awesome book|Very interesting ...| 2013-09-09|\n",
            "|         US|    6285538|R24D677N5WBW5Q|B007FZOXJM|       5589837|Face of Betrayal ...|Digital_Ebook_Pur...|          5|            0|          0|   N|                Y|    Face of betrayal|Really enjoyed th...| 2013-09-09|\n",
            "|         US|   10278048|R2FCJ9BQLSIOR3|B00B6AK7LU|     362701357|Final Justice (A ...|Digital_Ebook_Pur...|          5|            0|          0|   N|                Y|           Very good|I really liked th...| 2013-09-09|\n",
            "|         US|   16568972|R1R6K4MAKDWTXI|B00EVMMLU0|     342745087|Falling For My Hu...|Digital_Ebook_Pur...|          4|            0|          0|   N|                Y|Ouch! My neck is ...|Reading Callum an...| 2013-09-09|\n",
            "|         US|   26001763|R3R5DILCWM8J7B|B00E4W4984|     186117550|  Forgetting Tabitha|Digital_Ebook_Pur...|          5|            0|          0|   N|                Y|It was a wonderfu...|I really enjoyed ...| 2013-09-09|\n",
            "|         US|   48203259| RR5K72IZOCOFE|B005A1JBB8|     947574172|The Blacksmith's ...|Digital_Ebook_Pur...|          4|            0|          0|   N|                N|       Worth reading|Although not comp...| 2013-09-09|\n",
            "|         US|   45028038|R3K9PJU5GLDY3O|B0044DELIQ|     427899617|Vampire Vacation:...|Digital_Ebook_Pur...|          5|            1|          2|   N|                Y|      Very Good Romp|Enjoyed the chara...| 2013-09-09|\n",
            "|         US|   42554355|R1KTZMCDOJXAEK|B00DJQYATE|     184945574|By the Tail (Coug...|Digital_Ebook_Pur...|          5|            0|          0|   N|                N|    Love this Series|I love the Cougar...| 2013-09-09|\n",
            "|         US|   11251156|R3SBEH4Y3W9W11|B004XFYNNS|     820449163|The Kingdom (A Fa...|Digital_Ebook_Pur...|          5|            0|          0|   N|                Y|    Love this author|I really enjoy Cl...| 2013-09-09|\n",
            "|         US|   44677006|R3GB8WOHSWW2EG|B00A27Z6GO|     969993834|6 Erotic Bedtime ...|Digital_Ebook_Pur...|          3|            0|          0|   N|                Y|    Didn't finish...|I have to admit I...| 2013-09-09|\n",
            "|         US|   34645512| RDM68WMOEDNRJ|B008EGV4BQ|      36906356|The Purpose Drive...|Digital_Ebook_Pur...|          5|            0|          0|   N|                Y|Can't unread it now!|Thanx paster Rick...| 2013-09-09|\n",
            "|         US|   16137650|R3TW70YF2WZK9O|B00655U3WE|     941986263|Insurgent (Diverg...|Digital_Ebook_Pur...|          5|            0|          0|   N|                Y|Great second inst...|As with divergent...| 2013-09-09|\n",
            "|         US|    4514126|R39ESX43X1SA5T|B006NG0GXQ|     402593554|Forever His: A Ti...|Digital_Ebook_Pur...|          1|           36|         47|   N|                Y|   Completely absurd|From the time tha...| 2013-09-09|\n",
            "|         US|   44803855|R3MCA5W3BZ65OU|B008J4RPWA|     804503161|Summerset Abbey: ...|Digital_Ebook_Pur...|          5|            0|          0|   N|                Y|#2, just as good ...|I love the intera...| 2013-09-09|\n",
            "+-----------+-----------+--------------+----------+--------------+--------------------+--------------------+-----------+-------------+-----------+----+-----------------+--------------------+--------------------+-----------+\n",
            "only showing top 20 rows\n",
            "\n"
          ]
        }
      ]
    },
    {
      "cell_type": "code",
      "source": [
        "#NOTE: used the following pull from postgress to test before pulling here:\n",
        "#SELECT * FROM information_schema.tables;\n",
        "\n",
        "#SELECT * FROM vine_table;\n",
        "\n",
        "#Table appears to be calculated correctly* - pulling columns into vine_df\n",
        "\n",
        "vine_df = df.select([\"review_id\", \"star_rating\", \"helpful_votes\", \"total_votes\", \"vine\", \"verified_purchase\"])\n",
        "vine_df.show()\n"
      ],
      "metadata": {
        "colab": {
          "base_uri": "https://localhost:8080/"
        },
        "id": "An-HPylkLi3W",
        "outputId": "e8e432aa-91e1-4630-c08d-c05926d1a08a"
      },
      "execution_count": 4,
      "outputs": [
        {
          "output_type": "stream",
          "name": "stdout",
          "text": [
            "+--------------+-----------+-------------+-----------+----+-----------------+\n",
            "|     review_id|star_rating|helpful_votes|total_votes|vine|verified_purchase|\n",
            "+--------------+-----------+-------------+-----------+----+-----------------+\n",
            "| RGYFDX8QXKEIR|          4|            0|          0|   N|                N|\n",
            "|R13CBGTMNV9R8Z|          4|            1|          2|   N|                Y|\n",
            "| R7DRFHC0F71O0|          5|            0|          0|   N|                N|\n",
            "|R27LUKEXU3KBXQ|          5|            1|          1|   N|                Y|\n",
            "|R1VXTPUYMNU687|          5|            1|          2|   N|                N|\n",
            "|R30DKW1GJWLPZC|          3|            1|          2|   N|                Y|\n",
            "|R18DPFG2FALJI9|          5|            0|          0|   N|                Y|\n",
            "|R24D677N5WBW5Q|          5|            0|          0|   N|                Y|\n",
            "|R2FCJ9BQLSIOR3|          5|            0|          0|   N|                Y|\n",
            "|R1R6K4MAKDWTXI|          4|            0|          0|   N|                Y|\n",
            "|R3R5DILCWM8J7B|          5|            0|          0|   N|                Y|\n",
            "| RR5K72IZOCOFE|          4|            0|          0|   N|                N|\n",
            "|R3K9PJU5GLDY3O|          5|            1|          2|   N|                Y|\n",
            "|R1KTZMCDOJXAEK|          5|            0|          0|   N|                N|\n",
            "|R3SBEH4Y3W9W11|          5|            0|          0|   N|                Y|\n",
            "|R3GB8WOHSWW2EG|          3|            0|          0|   N|                Y|\n",
            "| RDM68WMOEDNRJ|          5|            0|          0|   N|                Y|\n",
            "|R3TW70YF2WZK9O|          5|            0|          0|   N|                Y|\n",
            "|R39ESX43X1SA5T|          1|           36|         47|   N|                Y|\n",
            "|R3MCA5W3BZ65OU|          5|            0|          0|   N|                Y|\n",
            "+--------------+-----------+-------------+-----------+----+-----------------+\n",
            "only showing top 20 rows\n",
            "\n"
          ]
        }
      ]
    },
    {
      "cell_type": "code",
      "source": [
        "#NOTE: Starting deliverable 2**."
      ],
      "metadata": {
        "id": "PUPptAP2NupR"
      },
      "execution_count": 5,
      "outputs": []
    },
    {
      "cell_type": "code",
      "source": [
        "# filter for total_votes equal to or greater than 20*.\n",
        "vote_count = vine_df.filter(\"total_votes >= 20\")\n",
        "vote_count.show()\n"
      ],
      "metadata": {
        "colab": {
          "base_uri": "https://localhost:8080/"
        },
        "id": "YYEZiYo_NpOS",
        "outputId": "308c0ef4-4757-4c62-b6f2-9d89e4f17816"
      },
      "execution_count": 6,
      "outputs": [
        {
          "output_type": "stream",
          "name": "stdout",
          "text": [
            "+--------------+-----------+-------------+-----------+----+-----------------+\n",
            "|     review_id|star_rating|helpful_votes|total_votes|vine|verified_purchase|\n",
            "+--------------+-----------+-------------+-----------+----+-----------------+\n",
            "|R39ESX43X1SA5T|          1|           36|         47|   N|                Y|\n",
            "|R31QRZ3JAMPBB4|          1|           16|         26|   N|                Y|\n",
            "|R23FKBEXURC3SN|          5|           28|         36|   N|                N|\n",
            "| R4IAIDV5EE84W|          1|            8|         21|   N|                Y|\n",
            "|R26MB2DA7ROT4P|          1|            2|         21|   N|                Y|\n",
            "| RTRVYV0GWUTCK|          5|           18|         25|   N|                Y|\n",
            "|R3QLZAI37SNOOC|          2|           30|         31|   N|                Y|\n",
            "|R1QYZU3RS4CY4F|          5|           66|         76|   N|                N|\n",
            "|R2UR5OLN1BU87J|          2|           21|         23|   N|                Y|\n",
            "| RYBZ6CTBOGI0H|          1|            3|         84|   N|                N|\n",
            "|R38NW44NY19VAZ|          5|           30|         32|   N|                Y|\n",
            "| RLUFKZ223OR3L|          2|           20|         23|   N|                N|\n",
            "|R3H9D0U7BCE6FU|          4|           23|         24|   N|                Y|\n",
            "|R2OG3RELTTD8B3|          4|           70|         73|   N|                N|\n",
            "|R3SERP1OF1G1MH|          2|            3|         20|   N|                Y|\n",
            "| RP3K0YBQIVGXZ|          5|           57|         63|   N|                Y|\n",
            "|R38NKFX8MFXZF8|          1|            2|         21|   N|                Y|\n",
            "|R3JFHXXGSKG1CE|          1|           17|         30|   N|                Y|\n",
            "| RJK1WCZZAQZ8V|          1|           67|         81|   N|                Y|\n",
            "|R1M14DUDPWVLNM|          1|            6|         23|   N|                Y|\n",
            "+--------------+-----------+-------------+-----------+----+-----------------+\n",
            "only showing top 20 rows\n",
            "\n"
          ]
        }
      ]
    },
    {
      "cell_type": "code",
      "source": [
        "#Filter on df - retrieve all the rows where the number of helpful_votes divided by total_votes is equal to or greater than 50%.\n",
        "helpful_df = vote_count.filter(\"helpful_votes/total_votes>=0.5\")\n",
        "helpful_df.show(1000)\n",
        "\n",
        "#NOTE: There does not appear to be any instance of vine being equal to 'Y' \n",
        "#An iteration of 1000 cases appears to show no instances of vine having the value of 'Y' in this dataset*.\n"
      ],
      "metadata": {
        "colab": {
          "base_uri": "https://localhost:8080/"
        },
        "id": "ae05TppbOimp",
        "outputId": "b5e88863-c58b-41b1-e83c-8be00630029a"
      },
      "execution_count": 7,
      "outputs": [
        {
          "output_type": "stream",
          "name": "stdout",
          "text": [
            "+--------------+-----------+-------------+-----------+----+-----------------+\n",
            "|     review_id|star_rating|helpful_votes|total_votes|vine|verified_purchase|\n",
            "+--------------+-----------+-------------+-----------+----+-----------------+\n",
            "|R39ESX43X1SA5T|          1|           36|         47|   N|                Y|\n",
            "|R31QRZ3JAMPBB4|          1|           16|         26|   N|                Y|\n",
            "|R23FKBEXURC3SN|          5|           28|         36|   N|                N|\n",
            "| RTRVYV0GWUTCK|          5|           18|         25|   N|                Y|\n",
            "|R3QLZAI37SNOOC|          2|           30|         31|   N|                Y|\n",
            "|R1QYZU3RS4CY4F|          5|           66|         76|   N|                N|\n",
            "|R2UR5OLN1BU87J|          2|           21|         23|   N|                Y|\n",
            "|R38NW44NY19VAZ|          5|           30|         32|   N|                Y|\n",
            "| RLUFKZ223OR3L|          2|           20|         23|   N|                N|\n",
            "|R3H9D0U7BCE6FU|          4|           23|         24|   N|                Y|\n",
            "|R2OG3RELTTD8B3|          4|           70|         73|   N|                N|\n",
            "| RP3K0YBQIVGXZ|          5|           57|         63|   N|                Y|\n",
            "|R3JFHXXGSKG1CE|          1|           17|         30|   N|                Y|\n",
            "| RJK1WCZZAQZ8V|          1|           67|         81|   N|                Y|\n",
            "|R3B5SVW0WVUHRB|          5|           23|         23|   N|                Y|\n",
            "|R2KYTL3780UJQP|          1|           50|         78|   N|                Y|\n",
            "|R298OT8VO3655T|          5|           22|         25|   N|                Y|\n",
            "|R22G9KVRZMFBGD|          5|           26|         26|   N|                N|\n",
            "|R2STEO5WQ426BH|          5|           21|         24|   N|                Y|\n",
            "|R28Z87RN6YSF25|          1|           39|         44|   N|                Y|\n",
            "|R2YUCC0KSTJ5V6|          3|           50|         60|   N|                Y|\n",
            "| R4UL4LMRE1I8G|          5|           26|         29|   N|                Y|\n",
            "|R1HKJMM1RLVMWY|          1|           25|         28|   N|                Y|\n",
            "|R3IJ80HOKWJWLF|          5|          137|        158|   N|                Y|\n",
            "|R2ARY15ILA4FST|          5|           53|         57|   N|                Y|\n",
            "| RQ1Z9KSOXWEJM|          5|           56|         58|   N|                N|\n",
            "| RS9WHNB8XJ9M0|          1|           66|         77|   N|                Y|\n",
            "|R3R2NCOUD0J5ML|          5|           31|         35|   N|                Y|\n",
            "| RU0VSRCG6TLBT|          3|           14|         20|   N|                N|\n",
            "| RVHP8PIZ58I9J|          3|           34|         39|   N|                Y|\n",
            "|R1KTQSA94MDUWJ|          3|           26|         28|   N|                Y|\n",
            "| R1F3B9LEC1LU0|          5|           33|         36|   N|                Y|\n",
            "|R3GBYTNA9TJ5BM|          1|           19|         24|   N|                N|\n",
            "| R400I9WUUNJFR|          1|           90|        112|   N|                Y|\n",
            "|R1X2M96X9PVKA7|          5|           28|         29|   N|                Y|\n",
            "|R2FH1KGVLU48N3|          5|           30|         31|   N|                Y|\n",
            "|R3OW05SI68PKGT|          1|           30|         43|   N|                Y|\n",
            "|R2HC0OEQ8BBH84|          5|           36|         36|   N|                Y|\n",
            "| R7VDPEYA97Q57|          1|           18|         20|   N|                Y|\n",
            "|R3L0081CG4OPT4|          5|           22|         24|   N|                Y|\n",
            "|R3SOS1AIP0BJ0X|          1|           16|         23|   N|                Y|\n",
            "|R2IMQ9JWEZKAHM|          1|           33|         39|   N|                Y|\n",
            "|R1M5KH2R68XTK1|          5|           21|         21|   N|                Y|\n",
            "|R3SF8JSBSHF34T|          5|           31|         32|   N|                Y|\n",
            "|R3UUNZIYNEK24W|          4|           24|         26|   N|                Y|\n",
            "|R1I0BFNO81KCJN|          2|           42|         56|   N|                N|\n",
            "| R5KAMY9VJDDFV|          5|           20|         20|   N|                Y|\n",
            "|R3GCJGHSGJQ38W|          2|           20|         21|   N|                Y|\n",
            "|R3CK9N6YKL9IHI|          5|           19|         25|   N|                Y|\n",
            "| RD4UQC07HO32K|          5|           30|         33|   N|                N|\n",
            "|R3SI1EL7WA2RFJ|          2|           16|         20|   N|                Y|\n",
            "|R2QPOMDRA5ATVK|          4|           22|         22|   N|                N|\n",
            "|R16HSZEHJ7ET93|          3|           19|         24|   N|                Y|\n",
            "|R3FCNL2WIRQKGS|          1|           22|         26|   N|                Y|\n",
            "| RVPP6I2ZUR1XP|          3|           28|         30|   N|                Y|\n",
            "|R2IL5L3VYRUVQB|          4|           24|         29|   N|                Y|\n",
            "|R3142BLG2PPX9P|          2|           16|         21|   N|                Y|\n",
            "|R1R3FBLSZITMLA|          2|           21|         29|   N|                Y|\n",
            "|R1545S3MBJEJMP|          3|          259|        279|   N|                Y|\n",
            "| RWMS375ZR5Y83|          1|           20|         21|   N|                N|\n",
            "|R1FX1USALHHTNI|          5|           38|         46|   N|                N|\n",
            "|R3TB2Z5LDOJ2CA|          5|           29|         31|   N|                N|\n",
            "|R3DXP9Z7HMC1YR|          1|           22|         30|   N|                Y|\n",
            "| RXKYQXMBOJKAG|          3|           33|         36|   N|                Y|\n",
            "|R35NU1NUX2XMIV|          4|           30|         38|   N|                Y|\n",
            "| RAM7FHUUC7C4B|          5|           21|         21|   N|                Y|\n",
            "| R2X03IKJZBE23|          1|          122|        140|   N|                Y|\n",
            "| RQNU2OU1BIRC4|          3|           12|         24|   N|                N|\n",
            "|R1BHWB2VR7VW52|          1|           18|         27|   N|                N|\n",
            "|R2A2W5SDAB16TF|          5|           20|         20|   N|                Y|\n",
            "| RBOA0VYCOSQ1E|          2|           28|         30|   N|                Y|\n",
            "|R2YF1CCM41XE55|          1|           15|         25|   N|                N|\n",
            "|R21OIZ567LCOJK|          1|           16|         30|   N|                Y|\n",
            "|R1JZVWEI0ABCII|          5|           28|         29|   N|                Y|\n",
            "|R1K972B5XZUF7G|          5|           35|         36|   N|                Y|\n",
            "|R1OWU8MOKFUROS|          5|           17|         26|   N|                Y|\n",
            "|R2ERSJCT8ASYZ5|          4|           56|         63|   N|                Y|\n",
            "|R20XEZIIDCYG5M|          3|           34|         35|   N|                N|\n",
            "|R15GRUK3EEVIF5|          1|           22|         33|   N|                Y|\n",
            "|R3EU9WPJB8GOBI|          5|           16|         25|   N|                Y|\n",
            "|  RWYEC0YIJCIS|          2|           73|         79|   N|                Y|\n",
            "|R1YA7555HH4OX6|          5|           15|         28|   N|                N|\n",
            "| RMFXZ48KKVIH4|          1|           17|         30|   N|                N|\n",
            "| RNAV00TJBOZLL|          5|           26|         34|   N|                Y|\n",
            "| RHC3DNNNVHYTZ|          2|           23|         31|   N|                Y|\n",
            "| REC4NZYOB81AU|          5|           61|         65|   N|                Y|\n",
            "|R2H79XQTZ7ZME2|          2|           55|         56|   N|                Y|\n",
            "|R3NFY3B2DQ1IIN|          2|           21|         24|   N|                Y|\n",
            "|R1JFNU650NA32O|          2|           21|         22|   N|                Y|\n",
            "|R16RPWO0PTTMUC|          5|           22|         22|   N|                Y|\n",
            "|R3I8DAHVB1I0EO|          2|           30|         30|   N|                N|\n",
            "| RI3W1GRDAEVM9|          3|           29|         30|   N|                Y|\n",
            "| RJMUTX3YREB17|          4|           74|         79|   N|                N|\n",
            "| R7TWIR5QQP453|          5|           25|         29|   N|                N|\n",
            "|R39H8HHONXJ1AF|          5|           18|         21|   N|                Y|\n",
            "|R25C7YJU9407XC|          1|           21|         25|   N|                Y|\n",
            "|R1J0YU9E6BKM4C|          1|           20|         35|   N|                Y|\n",
            "|R1GDZFMMZ4F6BN|          5|           25|         31|   N|                Y|\n",
            "| RYTHBYK5OK8PW|          3|           45|         52|   N|                Y|\n",
            "|R2L7DQECA4Z3SS|          1|           26|         34|   N|                Y|\n",
            "|R3SYH4148W2Y8N|          5|           27|         27|   N|                Y|\n",
            "|R2LN6I0R5V9PVS|          2|           19|         21|   N|                Y|\n",
            "| RSW6QTSPD3NZN|          5|           19|         20|   N|                N|\n",
            "|R1IH9GWLY5XA2T|          1|           31|         40|   N|                N|\n",
            "|R284A7UVBMFB2M|          5|           25|         28|   N|                Y|\n",
            "|R13AKUMGQ9O6IM|          2|           15|         21|   N|                Y|\n",
            "|R3SGR1T9RIHTVG|          5|           22|         23|   N|                Y|\n",
            "| R4JDOMLHCL7D3|          2|           15|         20|   N|                Y|\n",
            "|R26SVG4ZB6JAJP|          3|           21|         24|   N|                N|\n",
            "| RFHVMUQABH2AD|          4|           15|         21|   N|                Y|\n",
            "|R1RWSP5TF2EWWR|          5|           25|         26|   N|                Y|\n",
            "| RQDDCGL9E9IGQ|          1|           57|         60|   N|                Y|\n",
            "|R226IV6AKCYOHC|          5|           31|         33|   N|                N|\n",
            "|R3IFLU5CE3WE0U|          5|           21|         23|   N|                Y|\n",
            "|R28IUPUGPW9TPT|          1|           12|         23|   N|                Y|\n",
            "|R2T99GLBDWYF37|          5|           68|         73|   N|                Y|\n",
            "|R23SZPV2NH3AZC|          5|           26|         26|   N|                N|\n",
            "|R11LYR46DI1YDQ|          5|           13|         22|   N|                N|\n",
            "|R2X8165IMTJBB6|          1|           32|         48|   N|                Y|\n",
            "|R1GTIHG2SKU0KH|          4|           15|         25|   N|                Y|\n",
            "|R1Z25522Z3Y13F|          1|           22|         29|   N|                Y|\n",
            "|R2H5O97CN1H3LR|          1|          174|        211|   N|                Y|\n",
            "|R11LUWP1AXRIQ9|          2|           33|         35|   N|                Y|\n",
            "|R1EH20TI2VDQD0|          1|           18|         25|   N|                Y|\n",
            "| RA7D9GG0GOAA2|          1|           24|         37|   N|                Y|\n",
            "|R1H5PUJYUOCHWQ|          3|           66|         72|   N|                Y|\n",
            "|R1ZHCRA31L7O84|          3|           15|         21|   N|                Y|\n",
            "|R2LKCQTUW82FYP|          4|           21|         23|   N|                Y|\n",
            "|R2ITGTMFXI2IL1|          4|           23|         26|   N|                Y|\n",
            "|R3PI72L54DBNOB|          5|           81|         82|   N|                Y|\n",
            "|R1I29CTVGT8LSD|          4|           39|         45|   N|                Y|\n",
            "|R3DQ5DVLQLNFHP|          5|           23|         25|   N|                Y|\n",
            "| RMSNMK6JHT0YX|          5|           35|         36|   N|                Y|\n",
            "|R2074AVCV6MFAM|          2|           36|         48|   N|                Y|\n",
            "| RUM0PTQHCGG4H|          2|           35|         39|   N|                Y|\n",
            "| ROW46ZREZF3HS|          3|          109|        135|   N|                Y|\n",
            "|R1LQIPJXMCYBYR|          1|           21|         38|   N|                Y|\n",
            "|R24GGLL9Q6FJU3|          5|           43|         45|   N|                Y|\n",
            "|R3P2U1GNN9XUM8|          5|           20|         21|   N|                Y|\n",
            "|R2HWYYD8FET77F|          2|           19|         26|   N|                N|\n",
            "| R907SYHDD4DOY|          3|           23|         23|   N|                N|\n",
            "|R3UV14681M26ID|          2|           33|         35|   N|                Y|\n",
            "|R34LSZOI5ZFX1C|          3|           23|         26|   N|                Y|\n",
            "|R2F17ZA2N4KTX4|          2|           69|         79|   N|                Y|\n",
            "|R2LI9DJEGNL6HP|          5|           28|         28|   N|                Y|\n",
            "|R1YO11U4EMZ6IK|          1|           30|         30|   N|                N|\n",
            "|R2SQ3CZJHS3V8A|          5|           22|         26|   N|                Y|\n",
            "|R3MS0JGMTQ3130|          4|           18|         22|   N|                Y|\n",
            "|R3HMKY5AGW5VWG|          4|           27|         34|   N|                N|\n",
            "|R2VXX2JA8GF7TV|          5|          190|        208|   N|                N|\n",
            "|R1T82Q2O33L10L|          1|           17|         26|   N|                Y|\n",
            "|R2M1UWIEZQH78U|          1|           87|        109|   N|                Y|\n",
            "|R174ECHJ4Q13VE|          1|           14|         21|   N|                Y|\n",
            "|R3VU040CF813G5|          5|           17|         21|   N|                Y|\n",
            "| RHO9Z7X67AH7P|          5|           60|         64|   N|                N|\n",
            "|R2NSVLK7YO2BN0|          5|           36|         43|   N|                Y|\n",
            "| RVFKWMQY6JJQX|          2|           41|         41|   N|                Y|\n",
            "|R209I3XWIZMGKZ|          1|           43|         57|   N|                Y|\n",
            "|R1R5JA11YE9LMS|          1|           49|         60|   N|                N|\n",
            "|R1ACPSAMOBASSN|          1|           34|         42|   N|                N|\n",
            "|R33ENGX7ETHVL5|          1|           39|         57|   N|                N|\n",
            "|R3G68QL31BF2XB|          5|           28|         28|   N|                Y|\n",
            "| R8B4QBBIDN5B0|          5|           20|         21|   N|                Y|\n",
            "|R1JOXX1P90JA0Q|          5|           20|         20|   N|                N|\n",
            "|R1KHOHAL16FHWW|          5|           26|         31|   N|                N|\n",
            "|R2YWIJNPGZ4RAK|          1|           27|         37|   N|                Y|\n",
            "|R36P4T4XOZ0PFM|          5|           43|         47|   N|                Y|\n",
            "| R16FO8YHGTTMX|          5|           33|         40|   N|                Y|\n",
            "|R20BETKYKX9I68|          5|           24|         24|   N|                N|\n",
            "| RVJTOKOE9EPF6|          5|           36|         37|   N|                Y|\n",
            "|R1APDXQ85MVYC7|          2|           17|         23|   N|                Y|\n",
            "|R30H7GK2KOCQ8V|          3|           32|         32|   N|                Y|\n",
            "| R6HSM36S5MUSU|          5|           39|         42|   N|                Y|\n",
            "|R34RRZO4T423ZS|          2|           39|         56|   N|                Y|\n",
            "| RZUNOHTDS8KFK|          1|           17|         26|   N|                N|\n",
            "| RK9X97MVYSHWF|          5|           38|         40|   N|                N|\n",
            "|R204MIPHUJJ8K2|          1|           22|         41|   N|                Y|\n",
            "|R29JH36NE8YY87|          2|           11|         21|   N|                Y|\n",
            "|R3Q283ENRS2OOT|          5|           29|         30|   N|                Y|\n",
            "|R21HWJVAFFA7NI|          1|           25|         26|   N|                Y|\n",
            "|R3KRHZOTRX3BZQ|          1|           93|        119|   N|                N|\n",
            "|R1SRCMSPBOAOY5|          5|           21|         21|   N|                Y|\n",
            "|R2D1TRBJUPF8QY|          1|          105|        123|   N|                Y|\n",
            "| RBPYQZI391HFG|          5|           30|         30|   N|                Y|\n",
            "|R16QOOCI2JWRQC|          5|           16|         29|   N|                Y|\n",
            "|R2QVF3GPYRQTSH|          4|           22|         22|   N|                Y|\n",
            "|R3HCCH1URLNZXP|          4|           29|         31|   N|                N|\n",
            "|R19FIOG2C7RDHA|          4|           21|         23|   N|                Y|\n",
            "|R1ZOR32NQQHXV3|          1|           90|        118|   N|                Y|\n",
            "|R1I74B8O1VV1DU|          5|           18|         26|   N|                Y|\n",
            "|R3268ID5AP2Y10|          3|           19|         21|   N|                Y|\n",
            "|R3GGS3UFIO1CME|          5|          178|        191|   N|                Y|\n",
            "| RDFHSXBPOO5ZZ|          5|           17|         20|   N|                Y|\n",
            "| RXY0KERHJAUBH|          3|           17|         22|   N|                Y|\n",
            "|R3TIZUZ476EGAD|          5|           31|         32|   N|                Y|\n",
            "|R39CDXVVGZHND2|          1|           39|         44|   N|                Y|\n",
            "| RWCWQTETQ5OZT|          5|           19|         20|   N|                Y|\n",
            "|R1FDJE6W2DG5IN|          5|           14|         25|   N|                N|\n",
            "|R2TVRS2Y6XNA2L|          2|           29|         30|   N|                Y|\n",
            "| RCLRPJJMARK3O|          5|           27|         27|   N|                Y|\n",
            "|R2GIJVMR9SUIRS|          4|           21|         22|   N|                Y|\n",
            "|R3I6T3933VQJQW|          5|           36|         39|   N|                N|\n",
            "|R1D9KS18G4VX3Z|          2|           34|         38|   N|                Y|\n",
            "|R3D8DFA5ZZOWJ3|          5|           19|         20|   N|                Y|\n",
            "|R1SX8D5U7YSMJY|          5|           33|         36|   N|                Y|\n",
            "| RD4FAKL2L2HX1|          2|           18|         28|   N|                Y|\n",
            "|R32IABZJK5AYG7|          1|           89|        112|   N|                N|\n",
            "|R2QPGBMUIHA140|          5|           54|         57|   N|                N|\n",
            "|R2Y6MH4ABN6PV4|          1|           15|         20|   N|                Y|\n",
            "| RRTDLAVAI6JF7|          5|           37|         37|   N|                Y|\n",
            "|R2EHVOZF6TQD9O|          5|           23|         27|   N|                N|\n",
            "| RF2AFZTU38J8V|          5|           24|         26|   N|                Y|\n",
            "|R2EVZ1MZKUPDT9|          4|           67|         71|   N|                N|\n",
            "|R3IGAFG7PB4DVT|          3|           20|         23|   N|                N|\n",
            "|R2BK5WX5DP19XS|          1|           28|         37|   N|                Y|\n",
            "|R1VCOPL6XJHYH3|          2|           25|         27|   N|                Y|\n",
            "|R19QG188VKIKV9|          3|           34|         34|   N|                Y|\n",
            "|R3H5K2VVKWOLIJ|          1|           33|         44|   N|                Y|\n",
            "|R2USYFT0YSQUSH|          3|           20|         22|   N|                Y|\n",
            "|R1XG01A6FVJQDD|          5|           26|         28|   N|                N|\n",
            "| RXO25WKRT0Z5Y|          1|           24|         27|   N|                Y|\n",
            "| RTFFOAIUCKBIN|          1|           27|         32|   N|                Y|\n",
            "| RH3Y7IGYHWAMA|          5|           23|         23|   N|                N|\n",
            "|R2SLO0ELJ5QBP1|          2|           24|         26|   N|                Y|\n",
            "| RULEGWQP0T691|          5|           20|         24|   N|                N|\n",
            "|R2FKKO5VVTYONE|          3|           19|         22|   N|                Y|\n",
            "|R2P18CQXESLBT6|          2|           36|         41|   N|                Y|\n",
            "| R78JLW7BBCWPI|          5|           80|         82|   N|                Y|\n",
            "|R1K1RGRLM4N1D7|          4|           22|         24|   N|                Y|\n",
            "|R1TS6I9HRRC1VJ|          1|           19|         20|   N|                Y|\n",
            "|R1E890IIJPX8N6|          5|          230|        235|   N|                Y|\n",
            "|R1OE16YR4K78T1|          2|           44|         47|   N|                Y|\n",
            "|R1328GKSSJDIX7|          5|           45|         57|   N|                Y|\n",
            "|R3N1D4122JRZNO|          1|           29|         32|   N|                Y|\n",
            "|R2DP1OFMMOYLA0|          1|           17|         21|   N|                Y|\n",
            "|R1X7XJRWB11BQ5|          5|           27|         29|   N|                N|\n",
            "|R17WOMY2X465H4|          2|           29|         35|   N|                N|\n",
            "|R3AXYFI5QID7RA|          1|           17|         33|   N|                Y|\n",
            "|R2OWXZEQ409WGQ|          2|           64|         71|   N|                Y|\n",
            "|R3JG13V5ONLZJ7|          1|           44|         49|   N|                Y|\n",
            "|R3FRJJZU9VOBJI|          1|           22|         25|   N|                Y|\n",
            "| RK2IFUHF0F5HL|          5|           36|         37|   N|                Y|\n",
            "|R18YIPSVJA6IVW|          5|           21|         21|   N|                N|\n",
            "|R1Y0YOB4HFIK1V|          1|           21|         25|   N|                Y|\n",
            "|R21SULFKWQ9TU7|          1|           31|         34|   N|                Y|\n",
            "|R2S63TC1SP9K08|          2|           96|        103|   N|                N|\n",
            "|R3TV01XV1JCZA3|          3|           72|         91|   N|                Y|\n",
            "| RC4M5W731QWZE|          3|           28|         30|   N|                Y|\n",
            "|R29PY6UZ2MEJVJ|          5|          126|        129|   N|                Y|\n",
            "|R2DKBJG1I13GVN|          5|           22|         23|   N|                Y|\n",
            "|R2GPHRJE7MSP5Q|          5|           22|         22|   N|                Y|\n",
            "| RC5NFECA2902X|          1|           32|         38|   N|                Y|\n",
            "|R2YVK6DNZNI5D7|          5|           21|         22|   N|                Y|\n",
            "|R29J9B7527U8DF|          1|           77|         92|   N|                Y|\n",
            "| R4ROSEGUP2DXX|          2|           16|         22|   N|                N|\n",
            "|R27NBURV9IEZT6|          2|           18|         23|   N|                Y|\n",
            "|R36KLDW09LV3OS|          1|           18|         21|   N|                Y|\n",
            "|R3A37Q54OJR6UQ|          1|           17|         20|   N|                Y|\n",
            "|R2MCH5MQWL8AUW|          5|           19|         20|   N|                Y|\n",
            "|R1FUG03T49AY7A|          4|           19|         24|   N|                Y|\n",
            "| R150IWP1SKZP2|          1|           22|         24|   N|                Y|\n",
            "|R2Y2X1LWZMT8QP|          2|           18|         21|   N|                Y|\n",
            "|R1GLVK9ZNCDH2S|          5|           31|         31|   N|                Y|\n",
            "|R352G6YJDMH8VQ|          5|           23|         23|   N|                Y|\n",
            "|R3BJGEFOALVKGO|          5|           21|         22|   N|                Y|\n",
            "|R3U6C6TPLMN5T3|          2|           15|         25|   N|                N|\n",
            "|R2UPLI07V1U5L7|          5|           33|         43|   N|                N|\n",
            "| RDERCUOWCCHUQ|          5|           38|         39|   N|                Y|\n",
            "|R2TOEKU2Q4QCKE|          5|           64|         64|   N|                N|\n",
            "|R2A3YNJIIJLTLB|          2|           20|         21|   N|                N|\n",
            "|R1C39A4OPUT4J8|          5|          105|        108|   N|                N|\n",
            "| RD1G8JWK2D8V0|          1|           12|         23|   N|                Y|\n",
            "| RWZ2VO0M76OIP|          3|           38|         40|   N|                Y|\n",
            "|R2OVWDEDNJO3KE|          5|           24|         25|   N|                Y|\n",
            "| RN6HZQQQJ9QYX|          5|           23|         23|   N|                N|\n",
            "|R1V0LJPDY0K8FQ|          5|           24|         26|   N|                Y|\n",
            "|R2ITUOI6Z3XUWO|          5|           36|         46|   N|                Y|\n",
            "|R1NPBKEGHNL195|          2|           32|         32|   N|                Y|\n",
            "|R13YSBDXA0L6B6|          5|           15|         25|   N|                N|\n",
            "|R30131TJTGYE66|          5|           30|         30|   N|                Y|\n",
            "| R872M9Q6Z57WQ|          1|           35|         45|   N|                Y|\n",
            "|R1SUJ96U8RR1EC|          1|           42|         56|   N|                Y|\n",
            "|R3OWEM2RNRQAHL|          4|          116|        120|   N|                Y|\n",
            "|R1U860XG7DYZKY|          4|          110|        113|   N|                Y|\n",
            "| RLQFNMSOC1YA6|          2|           16|         20|   N|                Y|\n",
            "|R3CQMMAN9UBGXJ|          5|           23|         24|   N|                Y|\n",
            "| RPCSL80BTSWTP|          2|           20|         28|   N|                Y|\n",
            "| RZN2WD9Q6YVAR|          5|           89|        108|   N|                Y|\n",
            "|R2WYQX1MDHOJIS|          5|           26|         34|   N|                N|\n",
            "| RVBGKL8U5JQCJ|          4|           27|         27|   N|                N|\n",
            "|R1D9QCZUM4907T|          4|           19|         20|   N|                Y|\n",
            "|R2TCO3YY6V4YNW|          3|           23|         25|   N|                N|\n",
            "|R32CRK7LW5BESS|          5|           20|         22|   N|                N|\n",
            "| RUCW6F9AUEYB4|          1|           26|         33|   N|                N|\n",
            "|R3VZ03FA5FE018|          5|           20|         26|   N|                Y|\n",
            "|R3812LXXAS9CWJ|          4|           31|         33|   N|                Y|\n",
            "|R2GM6H9APCN8SD|          5|           19|         26|   N|                Y|\n",
            "|R37PVJPMPU31IZ|          5|           22|         22|   N|                Y|\n",
            "|R3RFINT9A33NDT|          5|           22|         23|   N|                N|\n",
            "| RKF2SUIMMTTCW|          2|           28|         49|   N|                Y|\n",
            "|R1HGUVSBTB66M8|          4|           20|         21|   N|                Y|\n",
            "|R3TVRB62GVUGBF|          5|           27|         33|   N|                Y|\n",
            "|R1MH8I6GJEQ4YI|          5|           36|         47|   N|                Y|\n",
            "|R1940Z2CZDC6YI|          1|           26|         30|   N|                Y|\n",
            "| RMGR3X72DS3EE|          4|          101|        105|   N|                Y|\n",
            "|R1QOOP06A4HXBY|          2|           32|         38|   N|                Y|\n",
            "| RK306I2BZUPQ3|          1|           19|         24|   N|                Y|\n",
            "|R1UGB0YUP4OYMS|          5|           22|         22|   N|                N|\n",
            "| RK90JF1EE2PRB|          5|           45|         47|   N|                Y|\n",
            "|R2RHGPMMZHEF26|          5|           71|         72|   N|                Y|\n",
            "|R20SNYIBSBXKXF|          3|           22|         25|   N|                Y|\n",
            "|R293Y0UV4I33W5|          5|           25|         29|   N|                Y|\n",
            "|R2WEPV63IGOI4N|          2|           43|         52|   N|                Y|\n",
            "| R5YM717H2OMIZ|          3|           30|         40|   N|                Y|\n",
            "|R2XECZ681RVCD9|          1|           25|         26|   N|                N|\n",
            "|R14CLYN52GSUR4|          5|           26|         27|   N|                Y|\n",
            "|R2WDD45W9ABV6I|          5|           54|         55|   N|                N|\n",
            "|R1FZO2A1LSLK2X|          4|           26|         39|   N|                Y|\n",
            "| RRSNH6LT7Z0CN|          2|           19|         26|   N|                Y|\n",
            "|R280JYDG0QEHMG|          3|           81|         88|   N|                Y|\n",
            "| RV2LD6IBDRDIE|          4|           35|         45|   N|                N|\n",
            "|R3JO9VXRWTI019|          5|           20|         20|   N|                N|\n",
            "|R3AFCKKTPM41BN|          1|           61|         75|   N|                Y|\n",
            "|R3K3VGZXAW52QN|          1|           13|         23|   N|                Y|\n",
            "|R3PIA6TX2YXHPX|          5|           26|         26|   N|                N|\n",
            "|R1MY7BBMHZYQ85|          5|           62|         66|   N|                N|\n",
            "|R3KQQRYFKYLCD5|          5|          129|        141|   N|                Y|\n",
            "|R12DSBQEQGEYJJ|          5|           21|         21|   N|                Y|\n",
            "|R2EPO40H6YKSNZ|          4|           20|         21|   N|                Y|\n",
            "|R2XRQCP8CEDP0W|          2|           15|         21|   N|                Y|\n",
            "| RKFNKKVKVSOM3|          1|           31|         36|   N|                Y|\n",
            "|R1O510751R8RD6|          5|           20|         21|   N|                N|\n",
            "| RPCB5F9Z0E5DZ|          1|           20|         21|   N|                Y|\n",
            "| RMX6J8J3733Q7|          4|           23|         23|   N|                Y|\n",
            "| RNOBE2R1S8M80|          2|           60|         69|   N|                Y|\n",
            "| RGFI3O4GARWG8|          5|           18|         20|   N|                Y|\n",
            "|R2XLLCDFBSRJSL|          4|           28|         30|   N|                Y|\n",
            "|R3MS8UXLTWO0XM|          4|           11|         20|   N|                N|\n",
            "|R2CRQ0TASJJHSA|          5|           49|         56|   N|                Y|\n",
            "|R1UYU84VB2QW42|          5|           27|         31|   N|                Y|\n",
            "|R14TB35BWIMJJF|          1|           25|         26|   N|                Y|\n",
            "|R3CYHODUQXBAP2|          5|           23|         23|   N|                Y|\n",
            "| RXTNX6EXIEQSK|          2|           22|         25|   N|                Y|\n",
            "|R3EQRVDG7LACFD|          5|           21|         29|   N|                Y|\n",
            "|R13D0L2I80905X|          2|           17|         30|   N|                Y|\n",
            "| R3X32ASWOH4AC|          5|           18|         22|   N|                N|\n",
            "| R4PI74738KXSP|          1|           83|         89|   N|                Y|\n",
            "| RY508OGZTC29I|          5|           97|        103|   N|                N|\n",
            "| RHJ1G1KNLXOBX|          5|           32|         39|   N|                N|\n",
            "|R1BA0C06VVIIPT|          1|           17|         27|   N|                Y|\n",
            "|R2ZZHZE104BUO3|          1|           93|        104|   N|                N|\n",
            "|R32ZA6ABL9OT23|          1|          314|        359|   N|                Y|\n",
            "| R82XFBD5XX6HO|          1|           24|         42|   N|                N|\n",
            "|R32QKN3978J6RV|          5|           28|         28|   N|                N|\n",
            "|R2JTYW1HU80UN7|          4|           26|         27|   N|                Y|\n",
            "|R2MDSADICQYGY5|          1|           27|         28|   N|                N|\n",
            "|R372VYS0ERFNTC|          5|           31|         34|   N|                N|\n",
            "|R3UX837108NQ4Y|          1|           22|         22|   N|                Y|\n",
            "|R2XQMVC5BJJEI6|          2|           18|         21|   N|                N|\n",
            "|R2ZZ57FU4P3OS0|          1|           22|         31|   N|                Y|\n",
            "| RRBHFGHL973YM|          1|           26|         30|   N|                N|\n",
            "|R241ZO09UK570D|          1|           20|         37|   N|                Y|\n",
            "|R217XP3XPGEKWC|          2|           32|         51|   N|                N|\n",
            "|R2QD6YFIKFJOBD|          1|           30|         32|   N|                Y|\n",
            "| RDZOU60X2R8HD|          5|           23|         24|   N|                Y|\n",
            "|R39Q708SQQJ06K|          1|           76|         89|   N|                Y|\n",
            "|R1FMG153FFT0QV|          2|          189|        228|   N|                N|\n",
            "| R9M40OBR6Q8MB|          4|           22|         22|   N|                Y|\n",
            "|R24MSBM7S75U84|          5|           16|         22|   N|                N|\n",
            "| R4ZLIWWUHY7DZ|          2|           97|        102|   N|                Y|\n",
            "| RXZF2464S199X|          4|           28|         29|   N|                Y|\n",
            "|R1D03FKW4JSR51|          2|           20|         21|   N|                Y|\n",
            "|R3BS3QAOB1AYSX|          5|           26|         29|   N|                Y|\n",
            "|R38L6VCL3DSDA7|          1|           17|         25|   N|                Y|\n",
            "|R1BLNFZL07VCJD|          1|           13|         20|   N|                Y|\n",
            "|R3ABIQS3KX1BCZ|          5|          111|        118|   N|                N|\n",
            "| ROTF5TEXI4X4P|          5|          110|        111|   N|                Y|\n",
            "|R29W8XJ0JEJDPN|          5|           19|         21|   N|                Y|\n",
            "| RTK6QFIY5E03E|          1|           58|         92|   N|                Y|\n",
            "|R1D7PDQ95SDUWS|          5|           23|         25|   N|                Y|\n",
            "| RS60B2CZXS28Z|          5|           24|         26|   N|                Y|\n",
            "|R2G9N8D5OD60B5|          5|           28|         28|   N|                Y|\n",
            "|R1TWI4QLA6KZB3|          5|          167|        173|   N|                Y|\n",
            "|R34CE4K39PICL3|          5|           26|         28|   N|                N|\n",
            "|R3LDLO86AJ2UG7|          1|           23|         30|   N|                N|\n",
            "|R2QCOP3FWU3D7R|          5|           19|         21|   N|                N|\n",
            "|R1L3J5REBMNFDW|          2|           27|         28|   N|                N|\n",
            "| R5DV3G2B3DP1N|          1|           17|         22|   N|                Y|\n",
            "| R8ENDZ1I7MBD3|          5|           74|         74|   N|                Y|\n",
            "|R2HPJVIZJSSD72|          1|           24|         33|   N|                Y|\n",
            "|R3BYNH5TTFN2T1|          5|           83|         86|   N|                Y|\n",
            "|R2TYEVL8K58UHT|          5|           22|         23|   N|                N|\n",
            "|R30W04B4YDWYNO|          1|           20|         24|   N|                Y|\n",
            "| RWFDCTBKCTM2K|          4|           28|         32|   N|                N|\n",
            "|R3C4KNABW9VGAN|          5|           23|         23|   N|                Y|\n",
            "|R13R6WPUSU1V9Y|          1|           27|         28|   N|                N|\n",
            "|R38NB0PJHI9OII|          5|           32|         38|   N|                Y|\n",
            "|R32O78G40XZJHJ|          2|          471|        513|   N|                Y|\n",
            "|R37DENT8WL6W7C|          5|          181|        200|   N|                Y|\n",
            "|R1G7BZOCRRHH0V|          5|           26|         30|   N|                N|\n",
            "|R1FRM17YWR7DFR|          5|           21|         21|   N|                N|\n",
            "|R3LM8WK6AZZE6R|          2|           59|         64|   N|                Y|\n",
            "|R1G3SR78JFEKQC|          5|           26|         31|   N|                Y|\n",
            "|R35HJS0QSK2SM0|          5|           27|         27|   N|                Y|\n",
            "| R94ODJDR01GKV|          5|           27|         27|   N|                N|\n",
            "|R1MCPUD6N8XRM1|          2|           23|         30|   N|                N|\n",
            "|R2SGOW57QLDDH5|          2|           40|         45|   N|                N|\n",
            "|R14KMPI12Q8CAL|          3|           20|         22|   N|                Y|\n",
            "|R20S41GQ1W8JTU|          5|           78|         80|   N|                Y|\n",
            "| RE699JVJSEPTE|          1|           15|         20|   N|                Y|\n",
            "| RZO9RO2OHS95S|          5|           30|         32|   N|                N|\n",
            "|R1THKIMBJSBNXO|          1|           33|         37|   N|                Y|\n",
            "|R19YC5452DB69D|          2|           60|         70|   N|                Y|\n",
            "|R222RIOJ96DTSE|          4|           26|         32|   N|                Y|\n",
            "| RA9M2073EW6I5|          5|           19|         20|   N|                N|\n",
            "| ROVEVYBS4NHC4|          1|           35|         45|   N|                N|\n",
            "|R304RCBP34K7LE|          5|           31|         34|   N|                N|\n",
            "| RE4M5DBKNGVDR|          2|           21|         22|   N|                Y|\n",
            "|R3TWBCSW4AQ939|          3|           38|         46|   N|                Y|\n",
            "|R32AIKN65FHXLM|          1|           18|         21|   N|                Y|\n",
            "|R1XWJYC6EF6E83|          1|           20|         29|   N|                Y|\n",
            "|R11UB6IYO7LX1C|          5|           40|         52|   N|                Y|\n",
            "|R1NZLBT70QO1H9|          5|           47|         47|   N|                N|\n",
            "|R2XP3QGWAAL0EA|          5|           44|         50|   N|                Y|\n",
            "| RQBH9SNVFF7NM|          1|           64|         70|   N|                Y|\n",
            "|R3UA5S04S6YIC8|          5|           22|         23|   N|                N|\n",
            "|R3EK0UE00DASQ1|          5|           22|         25|   N|                N|\n",
            "|R323VH0OWE9EFO|          1|           24|         39|   N|                Y|\n",
            "|R30NWO3N8AVCF9|          1|           40|         44|   N|                Y|\n",
            "|  RSJNN2ZUDD7C|          2|           15|         26|   N|                Y|\n",
            "|R1UFCGQVCCSFZI|          1|           31|         38|   N|                Y|\n",
            "| R74EUZZ36Q21K|          1|           29|         39|   N|                N|\n",
            "| RVSZBMS5OREIT|          1|           51|         57|   N|                Y|\n",
            "|R12DN63VWML1I5|          3|           20|         23|   N|                Y|\n",
            "|R1M9JASLN521BP|          1|           41|         48|   N|                Y|\n",
            "|R2D87KTG062EL6|          2|           22|         35|   N|                Y|\n",
            "|R14D37Y5YOK8KM|          1|           18|         30|   N|                Y|\n",
            "|R1D7DFCE2TK8VW|          5|           29|         29|   N|                Y|\n",
            "|R2N55R1EN4LS3I|          3|           30|         32|   N|                Y|\n",
            "|R1TZ4W89HCMLR5|          2|          154|        165|   N|                Y|\n",
            "|R1G7BPX8X6ZST8|          1|           28|         46|   N|                N|\n",
            "|R1RHS9T6IIVP45|          5|           28|         32|   N|                Y|\n",
            "|R1NWXG97WCZOZ8|          2|           15|         22|   N|                N|\n",
            "| R5564TM7SR9IZ|          1|           20|         31|   N|                N|\n",
            "|R2D0GLBD6EEB90|          1|           20|         23|   N|                Y|\n",
            "| RIPZZBGK1YZJN|          3|           68|         77|   N|                Y|\n",
            "|R3S6S1DWTM4VSN|          5|           34|         36|   N|                Y|\n",
            "|R3JQVOG62Y2RAV|          5|           84|         89|   N|                N|\n",
            "|R1BLCAB0V6T0T7|          5|          152|        158|   N|                Y|\n",
            "|R3OVRN2A0KR0TX|          5|          114|        127|   N|                Y|\n",
            "|R1LSNQYPHUT8PP|          2|           40|         42|   N|                Y|\n",
            "| RD3IL8A1VIXC9|          5|          172|        177|   N|                Y|\n",
            "|R1AI7GYIQ4YL4E|          5|           21|         22|   N|                N|\n",
            "| RJGFP2A0ZV0YK|          5|           28|         30|   N|                Y|\n",
            "|R16CB7RW969C55|          3|           30|         33|   N|                Y|\n",
            "|R2VQV4ZJO4FA1W|          5|           29|         31|   N|                Y|\n",
            "| RILSGGSGUJQRE|          1|           14|         21|   N|                N|\n",
            "| RNTN1L9TM9BVQ|          5|          131|        138|   N|                Y|\n",
            "|R3V8QA6F3Z1226|          4|           40|         42|   N|                N|\n",
            "|R25PB3NPVJ77RU|          1|           17|         20|   N|                Y|\n",
            "|R1K2FI0V0C7FH2|          1|           17|         22|   N|                N|\n",
            "|R182UFBG634AX2|          1|           13|         25|   N|                Y|\n",
            "|R3P41ZE1C1W82L|          2|           30|         31|   N|                Y|\n",
            "|R1JVMA7QCBGOJS|          2|           14|         20|   N|                Y|\n",
            "| RFUMVNZ9XJIHX|          2|           33|         34|   N|                Y|\n",
            "| RZZPJ2VZEB34X|          2|           30|         38|   N|                Y|\n",
            "|R193A4BG42AAFD|          1|           22|         31|   N|                Y|\n",
            "| RO7Q1YZHHUO5P|          3|           46|         48|   N|                Y|\n",
            "|R2XZH9QBF5K0S3|          5|           30|         40|   N|                Y|\n",
            "| R8A31Y5CGY543|          1|           32|         35|   N|                N|\n",
            "|R28HFY9YZPAV05|          5|           28|         32|   N|                Y|\n",
            "|R2ZPWSJI9HYOD0|          4|           32|         34|   N|                Y|\n",
            "|R2CA8X05DKCMM5|          5|           36|         37|   N|                N|\n",
            "| RRRIGAQVQNUGK|          1|           17|         23|   N|                N|\n",
            "| RULM8OQRNOVDX|          1|           40|         58|   N|                Y|\n",
            "|R379NM6TX8YXHH|          2|          395|        431|   N|                Y|\n",
            "|R28PZ2RYODGBZX|          1|           19|         27|   N|                Y|\n",
            "|R16XN9H2XZ0BUJ|          1|           20|         21|   N|                Y|\n",
            "| RC8OHFODIZKSJ|          5|           24|         25|   N|                N|\n",
            "| RR2IB9IIM7OAG|          5|           22|         26|   N|                Y|\n",
            "| RQLO966JRD2YU|          5|           21|         22|   N|                Y|\n",
            "| RTM4OFD0QLSP8|          1|           19|         33|   N|                Y|\n",
            "|R29Y8HQPERDC40|          2|           22|         23|   N|                Y|\n",
            "|R37SJ6E0WW5OS1|          1|           13|         20|   N|                Y|\n",
            "|R35JI5DDVCGCWZ|          3|           36|         37|   N|                Y|\n",
            "|R139JJMLVLAOFE|          1|           29|         35|   N|                Y|\n",
            "|R2Z5O5QOV1HZ5D|          5|           32|         35|   N|                N|\n",
            "|R13G2SLZYNALSW|          5|           79|         86|   N|                Y|\n",
            "|R279IV1Z4M4Y3S|          5|           19|         20|   N|                N|\n",
            "|R3BIR0G15DK2DP|          1|           70|        106|   N|                N|\n",
            "|R1S815L14TU0EY|          4|           45|         48|   N|                N|\n",
            "|R2AULK88S8QISN|          4|           21|         24|   N|                Y|\n",
            "| RSO1S548920TU|          3|           51|         54|   N|                N|\n",
            "| RLR4FYQFPWZOB|          5|           72|         79|   N|                Y|\n",
            "| RD631ONRR1JKD|          5|           17|         22|   N|                N|\n",
            "|R2NCWCBWRK65BZ|          5|           24|         24|   N|                Y|\n",
            "|R1R1VC2QXG6VZR|          4|           19|         20|   N|                Y|\n",
            "| RCA0JP6M63W53|          3|           55|         61|   N|                Y|\n",
            "|R3MN8MKKENFJUV|          5|           19|         22|   N|                N|\n",
            "|R1OQC7DSQGSW56|          2|           15|         21|   N|                Y|\n",
            "| RGEREA5N31TFM|          3|           26|         41|   N|                Y|\n",
            "|R1U7OOA7XQWRSM|          1|           42|         54|   N|                Y|\n",
            "|R3UE2UNU1M8HOR|          2|           27|         35|   N|                Y|\n",
            "|R2GNAMN8PM1DYE|          3|           19|         23|   N|                Y|\n",
            "|R105YRHV69Z6AG|          3|           20|         21|   N|                Y|\n",
            "|R3JBRF2VDRFJ8I|          5|          172|        189|   N|                Y|\n",
            "|R2C620A7TEVTEC|          2|          152|        178|   N|                N|\n",
            "|R28GIZLJ9WXXF5|          5|           78|        108|   N|                Y|\n",
            "|R2O3XNI4ZTSAMH|          4|           29|         29|   N|                N|\n",
            "|R24QDQKKMID31D|          5|           21|         25|   N|                Y|\n",
            "|R2EH69F78MMZTH|          4|           14|         20|   N|                Y|\n",
            "|R3OH8X6268AU67|          3|           26|         26|   N|                Y|\n",
            "|R1PD8PWMD3WICY|          3|           21|         25|   N|                Y|\n",
            "|R2UVD32Z6JDIMY|          1|           27|         43|   N|                Y|\n",
            "|R33T5WLW7QSX7Y|          5|           22|         22|   N|                Y|\n",
            "| ROFQ9SMY4TAA5|          5|           26|         27|   N|                N|\n",
            "|R2NNC65HW5RK2C|          5|           55|         61|   N|                Y|\n",
            "|R1ULTW1ZE1A660|          2|           34|         39|   N|                Y|\n",
            "| RW6HY05QBUTTA|          3|           26|         29|   N|                Y|\n",
            "| RKZG75S9NLEN0|          1|           24|         33|   N|                Y|\n",
            "|R2GUGYMTGU3A8B|          4|           56|         62|   N|                Y|\n",
            "| RFARD648N1SQ6|          5|           25|         27|   N|                Y|\n",
            "|R3CJXAWUX623FO|          2|           30|         35|   N|                Y|\n",
            "|R2FRRLWGMDPT75|          3|           24|         24|   N|                Y|\n",
            "|R1UUZYWJNF98A0|          1|           21|         23|   N|                Y|\n",
            "|R371C69GUKHNTE|          4|           17|         20|   N|                N|\n",
            "| RWD0SIBTH0MRW|          5|           18|         20|   N|                N|\n",
            "|R3A26JOHD37F6H|          1|           44|         55|   N|                Y|\n",
            "| RSEW0S4IWPBDB|          3|           36|         39|   N|                N|\n",
            "| RZ5EBLD9QWDHE|          1|           24|         29|   N|                Y|\n",
            "| RXW5VO81PPV14|          5|           27|         30|   N|                N|\n",
            "| RU37Y90YFG9EM|          5|           22|         26|   N|                Y|\n",
            "| R9MIXV46GSAM0|          1|           17|         29|   N|                Y|\n",
            "|R2YV5RJEAOKAV1|          2|           14|         22|   N|                Y|\n",
            "|R22TIM0YBZPF3C|          2|           17|         20|   N|                Y|\n",
            "|R1BA67W8O4IQYD|          1|           20|         20|   N|                Y|\n",
            "|R2QZYIU2LH62HI|          1|           66|         71|   N|                Y|\n",
            "| R5TOVN0ZFBUZL|          1|           40|         41|   N|                Y|\n",
            "| R42UG2HGE2G3G|          1|           20|         38|   N|                N|\n",
            "| RGDV5W9HNT5FT|          5|           17|         23|   N|                Y|\n",
            "|R1MWE0G4WL86WP|          1|           21|         22|   N|                N|\n",
            "| RQN242SZ40EN1|          1|           16|         21|   N|                N|\n",
            "|R37BA8RXSEISO7|          3|           18|         36|   N|                Y|\n",
            "|R3Q1KMNP192SMV|          5|           42|         44|   N|                Y|\n",
            "|R2YA4RY8A2U2JG|          1|           30|         32|   N|                Y|\n",
            "|R202YU53OWW4HB|          5|           21|         25|   N|                Y|\n",
            "| RSD3E1JSQ191U|          4|          162|        168|   N|                Y|\n",
            "|R3PT87PEZ0R9WB|          5|           38|         41|   N|                N|\n",
            "|R211E3SRUX0PZN|          4|           24|         25|   N|                N|\n",
            "| RN6JSX7TTLLYD|          5|           37|         37|   N|                Y|\n",
            "| R4YOVHV49RXN9|          1|           24|         28|   N|                N|\n",
            "|R3U37FAMMOP17Y|          5|           21|         21|   N|                Y|\n",
            "| R6RBDK9FIXKUC|          1|           12|         23|   N|                Y|\n",
            "| RXF72FSIH3A3V|          5|           25|         27|   N|                N|\n",
            "|R28PK9A60W9KSF|          1|           15|         30|   N|                Y|\n",
            "|R105J2NZUW1H2Y|          1|           33|         41|   N|                Y|\n",
            "| RINSL8FRS9VY2|          5|           26|         27|   N|                N|\n",
            "|R1MEF3LUFMKEXM|          1|           46|         56|   N|                Y|\n",
            "| R2Q7Q3DIJA6IK|          4|           31|         31|   N|                Y|\n",
            "|R3COXTQ2L8MLMY|          4|           31|         38|   N|                Y|\n",
            "|R1NM1I368A3IPQ|          4|           42|         45|   N|                N|\n",
            "|R3JW04D1TJ2CSS|          5|           21|         25|   N|                Y|\n",
            "|R283UIKY2R1UHT|          5|           21|         32|   N|                Y|\n",
            "|R1HEZINZVNCJHL|          1|           43|         67|   N|                Y|\n",
            "| R9E7ARNURWEK7|          5|           16|         20|   N|                Y|\n",
            "|R2YBM2LRRSF39X|          4|           88|         96|   N|                N|\n",
            "|R1F44DV4X7ASPA|          2|           30|         36|   N|                N|\n",
            "|R29ONM9QRWEJ0A|          5|           95|        108|   N|                N|\n",
            "|R32BSUATF035BK|          4|           48|         50|   N|                N|\n",
            "|R3F6FDLVBIJ6GW|          4|           19|         23|   N|                N|\n",
            "|R2KJBP0KIF5TOZ|          1|           15|         30|   N|                Y|\n",
            "| R7T4GDUJC5N1X|          5|           33|         39|   N|                Y|\n",
            "|R1DVMPX0NV6NL3|          3|           27|         29|   N|                N|\n",
            "|R10Z8GTJMKR2DO|          5|           18|         21|   N|                N|\n",
            "|R2AHHPZ20C269I|          5|           21|         23|   N|                Y|\n",
            "|R2W1KIE26KJV53|          5|           16|         21|   N|                N|\n",
            "|R105E2TETE64KG|          5|           49|         50|   N|                Y|\n",
            "|R31ZHTQZ8HXZ9H|          5|           28|         37|   N|                Y|\n",
            "|R25YYG5JEGW188|          2|           16|         22|   N|                Y|\n",
            "| R2D9388G4LVG4|          3|           35|         38|   N|                Y|\n",
            "|R2DMB7DGBXW1QG|          5|          100|        104|   N|                N|\n",
            "| RTK3KRVDNWM6U|          1|           36|         41|   N|                Y|\n",
            "|R1GVL7X08WSA3F|          2|           16|         22|   N|                N|\n",
            "|R14JEB3F31TWWF|          5|           24|         25|   N|                N|\n",
            "|R2OW3MYOLO1HT6|          5|           23|         25|   N|                Y|\n",
            "|R243BEE1ZIF1DF|          1|           11|         22|   N|                N|\n",
            "| R8S5M15J7GPUK|          1|           13|         23|   N|                Y|\n",
            "|R3NUWI4BMZ1YZ0|          5|           33|         38|   N|                Y|\n",
            "|R2OB8MQL3KO7HW|          2|           90|         91|   N|                Y|\n",
            "| R60T8D1IMZ235|          2|           26|         29|   N|                N|\n",
            "| R7C42J8Q65HJO|          2|           28|         28|   N|                Y|\n",
            "|R30015ATYACMCS|          4|           25|         27|   N|                Y|\n",
            "|R1F49HJI9F5IOG|          1|           21|         29|   N|                Y|\n",
            "|R3FKCWN8NCD6UN|          5|           22|         22|   N|                Y|\n",
            "|R37K26C8ATBG2B|          5|           32|         36|   N|                N|\n",
            "|R2A8237UNIRGHK|          5|           18|         21|   N|                Y|\n",
            "| R3UFW61JQ7G21|          5|           21|         25|   N|                N|\n",
            "|R34SL98EOCGGE9|          4|           29|         33|   N|                Y|\n",
            "|R2MX7O8ACH675B|          5|           26|         27|   N|                Y|\n",
            "|R3CNB6IR2I0E53|          2|           21|         30|   N|                Y|\n",
            "|R2R5BI0MPQNTZ2|          1|           76|         94|   N|                Y|\n",
            "| RX2PVB7RINYBJ|          5|           22|         24|   N|                N|\n",
            "|R1JEF83NBVC7IB|          1|           55|         61|   N|                N|\n",
            "|R29EGARC61M7DP|          2|           18|         21|   N|                Y|\n",
            "| RW84O0YUE8LLO|          5|           17|         22|   N|                N|\n",
            "|R31UXUR38U8BB7|          5|           29|         30|   N|                N|\n",
            "|R282EQ8SARGIQ7|          5|           18|         21|   N|                Y|\n",
            "| RXR2M8C3R0HEP|          5|           25|         28|   N|                Y|\n",
            "|R1UDZPO7KW64RA|          3|           25|         28|   N|                Y|\n",
            "|R2BI2RUSMM6KTA|          1|          161|        221|   N|                Y|\n",
            "|R37F220PFAH0V1|          5|           19|         24|   N|                Y|\n",
            "| RH49SL7GG0KUG|          5|           20|         20|   N|                Y|\n",
            "|R2JPC7TFHBQIFG|          5|           36|         42|   N|                N|\n",
            "|R24MYN6HU2X5JI|          1|           42|         50|   N|                N|\n",
            "|R3FR13GZ2899H0|          2|           35|         36|   N|                Y|\n",
            "|R374RF7QQV9EWD|          5|           14|         21|   N|                Y|\n",
            "|R28G70S9CEPCIO|          3|           32|         34|   N|                Y|\n",
            "|R19RDFUK0Y91XQ|          5|           39|         40|   N|                Y|\n",
            "|R1NHEUF6T7DZQ4|          5|           37|         38|   N|                Y|\n",
            "|R16ECV37ZRYMH7|          3|           25|         26|   N|                Y|\n",
            "| RWMM5FBR799R7|          5|           30|         31|   N|                Y|\n",
            "|  RK4GTO5QXJYV|          5|           21|         23|   N|                Y|\n",
            "| R4JLACUV7951A|          1|           71|         89|   N|                Y|\n",
            "|R2CSB962HP3UD0|          5|           27|         29|   N|                N|\n",
            "|R3MRLFHEDP32AM|          5|           23|         24|   N|                N|\n",
            "|R3E50PR7ADOEVG|          5|           22|         26|   N|                N|\n",
            "| RO0JOZQI25S6L|          5|           87|        103|   N|                Y|\n",
            "|R2HLCQ3SCZ0NCI|          1|           15|         27|   N|                N|\n",
            "|R2UGVV85UT5QZ9|          5|           39|         42|   N|                Y|\n",
            "|R1ZHXRMGM53WWD|          1|           33|         39|   N|                N|\n",
            "|R22EWDQUSQWDUR|          5|           57|         61|   N|                Y|\n",
            "|R3KIMCC4DRKU8S|          5|           19|         21|   N|                Y|\n",
            "|R1LD53SJW5Y549|          5|           20|         24|   N|                N|\n",
            "|R3H4SYGA4MIF91|          1|           11|         21|   N|                Y|\n",
            "|R3UZL831A0VQVY|          5|           39|         40|   N|                Y|\n",
            "|R3MEI43NXXO9S9|          2|           41|         52|   N|                Y|\n",
            "|R1NZQ05EIWJNVE|          3|           44|         48|   N|                Y|\n",
            "|R1G8TCWEXQ5FHR|          5|          143|        150|   N|                Y|\n",
            "|R16X92G8E2K2PB|          5|           47|         48|   N|                Y|\n",
            "|R2TNEO1Y0APADB|          5|           21|         25|   N|                N|\n",
            "|R359VGMUJL416L|          1|           24|         29|   N|                Y|\n",
            "| RGDECP4K0W43S|          2|           31|         34|   N|                Y|\n",
            "|R3BB2N50BG48EZ|          5|           54|         56|   N|                Y|\n",
            "|R273YHTXKR3FLC|          5|          187|        195|   N|                Y|\n",
            "| RET443SEZ35B7|          2|           21|         23|   N|                Y|\n",
            "|R1U1I1M75EOW6D|          5|           24|         26|   N|                N|\n",
            "|R2A3TAAOQNPD37|          1|           58|         65|   N|                Y|\n",
            "|R257ZGEIQU0VU0|          1|           21|         26|   N|                Y|\n",
            "|R2EBVP2LDQ3ALR|          4|           42|         51|   N|                Y|\n",
            "|R3UOOKZ8RB13EV|          5|           18|         21|   N|                Y|\n",
            "|R2TIQUUOJMRU7I|          5|           29|         29|   N|                Y|\n",
            "|R3H57EWS603UZV|          5|           20|         21|   N|                Y|\n",
            "| R1ZU4AXE8DZ4V|          2|           44|         46|   N|                Y|\n",
            "|R2F44R74MAFO7R|          2|           12|         24|   N|                N|\n",
            "| R92X5THT7CO0A|          5|           39|         43|   N|                N|\n",
            "|R3MNNH48UFWSXN|          5|           27|         29|   N|                Y|\n",
            "| R3JINDLZMCLMH|          4|           21|         25|   N|                Y|\n",
            "|R11NK32EC8XCPG|          3|           35|         41|   N|                Y|\n",
            "| RVQ8JSOVPFSP5|          4|           20|         25|   N|                Y|\n",
            "|R39PQAPRRB8UDP|          2|           79|        103|   N|                N|\n",
            "|R2QVXFAI270LG8|          2|           18|         21|   N|                Y|\n",
            "| R5EM1NEYLS39E|          5|           37|         40|   N|                Y|\n",
            "|R3R9EQSCGVDAQ6|          5|           89|         96|   N|                Y|\n",
            "|R3KEFILPXWXUBL|          5|           32|         33|   N|                N|\n",
            "|R1F9IQB9E4H3HU|          1|           28|         30|   N|                Y|\n",
            "|R3QOQCM808QITF|          1|           18|         27|   N|                Y|\n",
            "|R27NJ9T9E7DIP1|          5|           38|         40|   N|                N|\n",
            "|R2BCQYQL4J4AZI|          1|           15|         22|   N|                Y|\n",
            "| R15ASFGPYTEOG|          2|           43|         46|   N|                N|\n",
            "|R2KVU43NJ9EBFX|          3|           49|         53|   N|                Y|\n",
            "| R97ULLJMMOT46|          3|           27|         27|   N|                N|\n",
            "| R89GC5LAFMK17|          1|           34|         39|   N|                Y|\n",
            "|R2KCAHYEXYFJEG|          4|           25|         29|   N|                Y|\n",
            "|R2TPYBRAS7CQC4|          5|           19|         21|   N|                Y|\n",
            "|R3KMMHPFLQZEAT|          5|           20|         20|   N|                Y|\n",
            "| R473HSVR94YUX|          5|           46|         48|   N|                Y|\n",
            "| RAS5GELZDG243|          5|           27|         30|   N|                Y|\n",
            "|R3U1IU4KARN324|          1|           19|         23|   N|                Y|\n",
            "|R1W4OEEFLVMU3P|          5|           23|         25|   N|                Y|\n",
            "| RNZT25VCV8L6V|          5|           30|         32|   N|                Y|\n",
            "|R1Y3FMKQ1K8379|          2|           12|         20|   N|                Y|\n",
            "|R34D0LKVWYBUZF|          2|           68|         89|   N|                N|\n",
            "| RKQCXSBFL4HMQ|          2|           19|         21|   N|                Y|\n",
            "|R1VZMAJR9QP11O|          1|           38|         50|   N|                N|\n",
            "| R20WU0OZYAOJM|          1|           18|         25|   N|                Y|\n",
            "|R20BUQ06CMTUDH|          1|           51|         64|   N|                Y|\n",
            "|R2SKJPNOJF3P1M|          4|           31|         31|   N|                Y|\n",
            "| RFC088WCVEDZV|          1|           27|         31|   N|                N|\n",
            "|R3FY13X9R00Z8G|          5|           26|         27|   N|                Y|\n",
            "| RM2XVBPVVPHJS|          1|           28|         28|   N|                Y|\n",
            "|R19DKAD1OE1OP5|          3|           20|         20|   N|                Y|\n",
            "|R2PNWGSA3ANF01|          5|           55|         57|   N|                N|\n",
            "| R90U4ZF3SNUKY|          5|           18|         20|   N|                Y|\n",
            "|R2G996EMVNS2NG|          5|           26|         27|   N|                Y|\n",
            "| RRG3JCW6CRSZ5|          1|           22|         30|   N|                Y|\n",
            "|R19A6NDWVIUYPR|          1|           71|         80|   N|                Y|\n",
            "|R13FR9N0UO4MAG|          1|           25|         38|   N|                Y|\n",
            "|R1O57FD725225K|          5|           62|         67|   N|                Y|\n",
            "| RVLVFH5ODQ2W1|          4|          264|        284|   N|                Y|\n",
            "|R3OL8CC3ISEQEM|          2|           15|         20|   N|                Y|\n",
            "|R10Z0YTJEFEVRH|          1|           23|         25|   N|                N|\n",
            "| RHJ1UKDVYUPC1|          5|           79|         81|   N|                Y|\n",
            "|R23LB7T2OE24BQ|          5|           98|        108|   N|                Y|\n",
            "|R1F9AFZ6OE04ZS|          5|           48|         48|   N|                Y|\n",
            "| RT27X0XMT742A|          2|           24|         27|   N|                Y|\n",
            "|R2K2Z2LA4US33V|          5|           19|         22|   N|                Y|\n",
            "| RVE25JONI8FJO|          1|          123|        130|   N|                Y|\n",
            "|R2UBWIT65WPI7D|          3|           33|         39|   N|                Y|\n",
            "|R1L6XMGZS2CK1C|          2|          112|        117|   N|                Y|\n",
            "| RDIMOIOMBYNTL|          2|           79|         93|   N|                Y|\n",
            "|R3IP971PAUG5W4|          4|           27|         30|   N|                Y|\n",
            "|R1T1698U0E2LSP|          1|           60|         68|   N|                Y|\n",
            "|R26IZUBOMSB6W5|          5|           23|         27|   N|                N|\n",
            "|R3JVFGGY5Q5CRK|          5|           33|         33|   N|                Y|\n",
            "|R234P3VRV11ANJ|          5|           62|         66|   N|                Y|\n",
            "|R34U9IJWO88HT1|          5|           53|         55|   N|                N|\n",
            "| RGM9E4957V0XG|          5|           54|         57|   N|                Y|\n",
            "|R2RPLUECL79R6B|          5|           30|         30|   N|                Y|\n",
            "| R8VVM1N0FSPHX|          3|           24|         25|   N|                N|\n",
            "| R53P5EJVJYKX8|          2|           42|         56|   N|                Y|\n",
            "|R2XU5PU0U6ZV6Z|          2|           23|         28|   N|                Y|\n",
            "|R3I730ER7RQEE7|          4|           65|         67|   N|                Y|\n",
            "|R25SU6AZR6Q58O|          1|           23|         32|   N|                Y|\n",
            "|R3DYQ22U0OT46N|          1|           17|         21|   N|                Y|\n",
            "| R4FWIMXXBGQUF|          1|           30|         39|   N|                Y|\n",
            "|R1E468JIZXMQL9|          1|           16|         21|   N|                Y|\n",
            "|R3V079JNJDN24K|          5|           23|         23|   N|                Y|\n",
            "|R1ULW700JFKF79|          2|           25|         27|   N|                Y|\n",
            "|R2UIS7II8ERJO7|          1|           24|         34|   N|                Y|\n",
            "| RAIOBZGZ92WOU|          1|           33|         37|   N|                Y|\n",
            "| RGL1D6K4TD804|          5|           47|         51|   N|                N|\n",
            "|R15GNNQC0R6N67|          1|           29|         34|   N|                N|\n",
            "|R2Z77SU3CELC2F|          5|           31|         32|   N|                Y|\n",
            "| RDPB5KE28RS3Y|          4|           22|         22|   N|                Y|\n",
            "| RHL0TD1VWDJP2|          4|           51|         57|   N|                N|\n",
            "|R131XVH9I8XE6C|          1|           37|         66|   N|                Y|\n",
            "|R35ZR61C02FXIS|          5|           19|         20|   N|                Y|\n",
            "|R3O43PMP1I6K8C|          3|           38|         42|   N|                Y|\n",
            "|R1GFIV9H8TFBRI|          5|           25|         28|   N|                Y|\n",
            "|R1TWN3YZYX9336|          1|           16|         21|   N|                Y|\n",
            "|R3K9A8YARROM8F|          1|          148|        162|   N|                Y|\n",
            "|R2A7HUJU341D7O|          1|           12|         21|   N|                Y|\n",
            "|R3RE1REEMEU13Y|          1|           19|         27|   N|                Y|\n",
            "|R2ADZ9ERQD6PSB|          4|           29|         31|   N|                N|\n",
            "|R3OLHWZXF95FH7|          3|           28|         33|   N|                Y|\n",
            "|R12OGWQ1MD1Q6L|          5|           18|         21|   N|                Y|\n",
            "|R1B7LQGHTRGBMF|          5|           19|         20|   N|                N|\n",
            "|R3I8SRY2EA0GCE|          1|           24|         35|   N|                Y|\n",
            "|R2B6Q4MI035PG6|          1|           53|         61|   N|                Y|\n",
            "|R241Z4D91CFVT3|          5|           19|         22|   N|                N|\n",
            "| RJLOVOYY5VAPL|          1|           29|         32|   N|                Y|\n",
            "|R1H2INC3T2Y0L5|          5|           21|         22|   N|                Y|\n",
            "|R2WEK5E1MO3SA0|          5|           34|         45|   N|                Y|\n",
            "| RE38G1RJ1H4X7|          5|           21|         23|   N|                Y|\n",
            "|R111362UL46L7H|          2|           19|         20|   N|                Y|\n",
            "|R1ZI8U2RQ89D3S|          5|           22|         25|   N|                Y|\n",
            "| RI80G4BN8UORK|          5|           29|         30|   N|                Y|\n",
            "|R3MO3AZUKZRPL6|          2|           15|         20|   N|                Y|\n",
            "|R32IK7VKDE6E23|          4|           21|         23|   N|                Y|\n",
            "|R13PK2P6GJTPLD|          5|           23|         24|   N|                Y|\n",
            "|R27IS2FYQVBGSB|          1|           13|         20|   N|                Y|\n",
            "|R3RK9QJT7VECRN|          5|           61|         74|   N|                N|\n",
            "|R2B4JUA47IXS68|          1|           41|         42|   N|                Y|\n",
            "|R2Z9T73I1W4TMD|          5|           32|         33|   N|                Y|\n",
            "|R38QXLNVO3HPZB|          3|           22|         22|   N|                Y|\n",
            "|R2RMSOA9WOUKOV|          1|           16|         23|   N|                Y|\n",
            "| RH5KFDNQDZDWH|          5|           63|         64|   N|                Y|\n",
            "|R31C6LKSCB42TF|          5|           25|         27|   N|                Y|\n",
            "|R1GUUVNW6RNQ0X|          3|           20|         22|   N|                Y|\n",
            "|R19PXHH3LCG3MS|          5|           54|         58|   N|                N|\n",
            "| RFEJY0NOGB6WS|          5|           37|         38|   N|                Y|\n",
            "| REEO0AHMPNGTK|          2|           20|         21|   N|                Y|\n",
            "|R1B9E4YMF2KXAK|          5|           20|         20|   N|                Y|\n",
            "|R3VGB3NVEHD0JB|          1|           14|         20|   N|                N|\n",
            "|R2ZB7GK7B6AB24|          4|           22|         23|   N|                Y|\n",
            "| RY8BVRW6EC6OS|          1|           18|         32|   N|                Y|\n",
            "|R12PQ4ZIIT305X|          5|           23|         24|   N|                Y|\n",
            "|R2COL88GNXHRJK|          4|           31|         40|   N|                Y|\n",
            "|R17SB3YJIRCEVZ|          5|           32|         34|   N|                N|\n",
            "| RL6IFKU6KZGLW|          5|           23|         25|   N|                N|\n",
            "|R1B03B2TAHOMIO|          5|           48|         51|   N|                Y|\n",
            "|R1VR5WHPF6BKND|          4|           24|         25|   N|                Y|\n",
            "|R2F9DTMWN9GB4F|          1|           41|         57|   N|                N|\n",
            "|R1J7GVMYSKW91I|          1|           22|         23|   N|                Y|\n",
            "|R2FOVQB6EATISN|          5|           21|         22|   N|                N|\n",
            "| RPMFJUEEN4Q4D|          1|           24|         30|   N|                Y|\n",
            "|R2Z7999MCXGANV|          5|           23|         28|   N|                N|\n",
            "|R1M20SBIRZEBNM|          1|           12|         24|   N|                Y|\n",
            "|R1IILWAXNQDUZ4|          4|           30|         35|   N|                Y|\n",
            "|R3VN0TFY1LYNMH|          3|           27|         29|   N|                Y|\n",
            "|R3DOQDJE21525H|          2|          158|        187|   N|                Y|\n",
            "|R36OAWRCLOEWUK|          1|           55|         65|   N|                N|\n",
            "|R1AW2DPJECDSPI|          1|           71|         78|   N|                N|\n",
            "|R1EAW69UT632LY|          5|           15|         25|   N|                N|\n",
            "|R1AXB9WI9H67NT|          1|           17|         24|   N|                Y|\n",
            "|R17BP27VN0700V|          5|           16|         20|   N|                N|\n",
            "|R1NTODHA573MB0|          1|           25|         34|   N|                N|\n",
            "|R3MY3CJBST1J9U|          3|           34|         40|   N|                Y|\n",
            "| RIYV1147GGHE9|          5|           73|         79|   N|                Y|\n",
            "| RVOMAC1OKX6VD|          1|           35|         44|   N|                Y|\n",
            "|R2AYZLUZ6T5NM0|          1|           12|         21|   N|                Y|\n",
            "|R3IGX0P4M9RG1E|          1|           79|         97|   N|                N|\n",
            "|R2I7ZWNZNTYC5I|          3|           30|         34|   N|                Y|\n",
            "|R2MTX48FNEN0QD|          2|           16|         25|   N|                Y|\n",
            "|R3UXWMV932LC3O|          2|           17|         20|   N|                Y|\n",
            "|R3VH4VE66DYTZS|          5|           32|         33|   N|                N|\n",
            "|R176AY8BQWZWPB|          1|           12|         21|   N|                N|\n",
            "|R1TD96S41RF6JT|          1|           14|         27|   N|                Y|\n",
            "|R31BVZUHZYEZPI|          4|           30|         34|   N|                N|\n",
            "|R3RTCE0U9L9NPQ|          1|           20|         29|   N|                Y|\n",
            "|R1K0R9YOL25VNR|          5|           34|         36|   N|                Y|\n",
            "| RW10CKCUFEEPG|          1|           28|         38|   N|                Y|\n",
            "|R1R2OIYVUL4PQX|          5|           18|         21|   N|                Y|\n",
            "|R121ASSFGR1W4Y|          5|           29|         31|   N|                Y|\n",
            "|R1MYBHEUSBP5T5|          5|           16|         23|   N|                N|\n",
            "| RYDC31U6DOO0V|          5|           31|         40|   N|                N|\n",
            "|R2ZISVXN1JZVLB|          1|           21|         30|   N|                N|\n",
            "|R3IXYD0ZYWOG65|          5|           20|         20|   N|                N|\n",
            "|R10E89Q2FJYWCP|          5|           76|         87|   N|                Y|\n",
            "|R1SVFVSLG85FOW|          2|           17|         22|   N|                Y|\n",
            "|R15QUFQZJNIKC5|          5|           27|         32|   N|                Y|\n",
            "| RRG72UH4R9SAQ|          1|           30|         50|   N|                N|\n",
            "| RX04XE8YPIQF4|          5|           21|         21|   N|                N|\n",
            "|R29SK665SVF3ZT|          5|           25|         33|   N|                Y|\n",
            "|R3RF8GHZ561ZYL|          1|           14|         24|   N|                Y|\n",
            "|R1PW54XDV86ULQ|          1|           12|         22|   N|                Y|\n",
            "|R2OQUUE6VDVBUA|          3|           24|         34|   N|                N|\n",
            "|R2BAR0775H5GVR|          2|           19|         26|   N|                Y|\n",
            "|R3NDQVK0IH98L6|          5|           18|         22|   N|                N|\n",
            "|R30B1JIM9O1UM6|          5|           36|         41|   N|                N|\n",
            "|R16GXHXQQIVO0F|          5|           69|         76|   N|                Y|\n",
            "| RL4CMRGWTB24Z|          5|           46|         49|   N|                N|\n",
            "|R3JKIW4DNH95Y8|          3|           34|         37|   N|                N|\n",
            "|R1166D68G2XNKE|          5|           96|        107|   N|                N|\n",
            "|R2YBIDAK4B8IOP|          5|           24|         25|   N|                N|\n",
            "|R2E8GXUM8K5VHN|          4|           27|         30|   N|                N|\n",
            "|R2IG2C1016OL05|          2|           17|         23|   N|                N|\n",
            "| RFR5867N4DQKZ|          5|           49|         49|   N|                N|\n",
            "|R2Y0MAUH0FW8IB|          1|           15|         25|   N|                Y|\n",
            "|R1FJQ0OL5SN17N|          5|           15|         20|   N|                N|\n",
            "|R2483RQM7V0NOB|          4|           25|         26|   N|                N|\n",
            "|R1BYWEYHRNOS9N|          1|           30|         41|   N|                N|\n",
            "|R2F1YF4GQX1GDK|          2|           26|         30|   N|                N|\n",
            "|R1CPMW2EQWH8Q1|          1|           20|         30|   N|                N|\n",
            "|R33NR9V6BEWTWB|          1|           12|         23|   N|                Y|\n",
            "|R2CTQFG125KXLA|          1|           34|         36|   N|                Y|\n",
            "|R1G039E5IEKT9A|          5|          136|        151|   N|                N|\n",
            "|R2WR9IORX0EQLA|          5|           19|         20|   N|                N|\n",
            "|R2PPN5DCLB1R4G|          1|           25|         33|   N|                Y|\n",
            "| RMNMB0NHP0O15|          5|           20|         20|   N|                N|\n",
            "|R3IZY4PHEWX9JC|          1|           44|         52|   N|                N|\n",
            "|R2QKBRVPVXGK7C|          5|           28|         29|   N|                Y|\n",
            "|R2015ACC07LXGC|          4|          174|        179|   N|                N|\n",
            "| REJ9FYATURW05|          5|           32|         32|   N|                Y|\n",
            "| RBQW061RFE9CF|          3|           37|         37|   N|                Y|\n",
            "| R4SVT4DWCVVQ4|          1|           22|         39|   N|                Y|\n",
            "|R3APA3O72E94VT|          5|           21|         23|   N|                N|\n",
            "|R2BKYY1ZQTIM16|          2|           17|         20|   N|                N|\n",
            "|R25HLB0UO4DV9W|          1|           58|         63|   N|                Y|\n",
            "| RH2MFYMRQMJFV|          2|           28|         36|   N|                Y|\n",
            "|R22S2IDRPH0KS9|          1|           58|         77|   N|                Y|\n",
            "|R1D3QFCJQ8AT18|          4|           37|         41|   N|                N|\n",
            "| R7G4SNLMYVOTQ|          2|           17|         23|   N|                Y|\n",
            "|R30FOVVYM1UIRD|          1|           25|         27|   N|                Y|\n",
            "|R1IYAOL36QSD2X|          5|           86|         95|   N|                Y|\n",
            "|R2DURXIYEE68Y5|          2|           10|         20|   N|                Y|\n",
            "| RI5S0YXZP9AW4|          5|           30|         32|   N|                Y|\n",
            "|R105TE2W9FXGUB|          1|           46|         51|   N|                Y|\n",
            "| RL0OXR92MFCY8|          5|           24|         25|   N|                Y|\n",
            "| RA3NJO2CK2SZE|          4|           22|         22|   N|                N|\n",
            "|R2OMBVSY76IT1I|          1|           28|         32|   N|                Y|\n",
            "| RKUWSY7ONIUUD|          1|           30|         33|   N|                Y|\n",
            "|R2GIV1RKVGLPLB|          2|           20|         22|   N|                Y|\n",
            "|R22RMZ6YK2HU3F|          5|           26|         26|   N|                N|\n",
            "| RF9CS02Y9LE19|          5|           77|         86|   N|                N|\n",
            "|R1MHC1Y3UNFTI0|          4|          123|        141|   N|                N|\n",
            "|R2YMN74ND218PT|          1|           25|         29|   N|                Y|\n",
            "|R1M4L8UCBFIUIO|          1|           13|         24|   N|                Y|\n",
            "| R7VFLHAOV4OP0|          4|           61|         61|   N|                Y|\n",
            "|  R4PCPKOMTYC8|          1|           20|         33|   N|                Y|\n",
            "| R7KTKRUEAJLKK|          1|           38|         45|   N|                Y|\n",
            "|R3Q6SNEU9418VU|          5|           24|         30|   N|                N|\n",
            "| RXCGLX83NW0C8|          5|           20|         21|   N|                Y|\n",
            "|R1M35KLI21TTIV|          5|           18|         20|   N|                Y|\n",
            "| RPA11HFM7H5NN|          1|           25|         26|   N|                Y|\n",
            "|R101PP4OFK6EEI|          5|           25|         25|   N|                N|\n",
            "| RLV4C3X9TSBQA|          2|           25|         33|   N|                Y|\n",
            "|R34ZKZFPUHBTA0|          1|           19|         22|   N|                Y|\n",
            "|R2EV3RDA865O2S|          3|           28|         30|   N|                N|\n",
            "| R81N985IVIKCS|          5|           33|         34|   N|                Y|\n",
            "|R30FEP41VUY68I|          2|           22|         24|   N|                Y|\n",
            "|R1WI1IXE58K7V1|          3|           68|         80|   N|                Y|\n",
            "|R3NMAC960QZLE3|          1|           16|         20|   N|                Y|\n",
            "|R1NEVULLDLPCOM|          5|           52|         61|   N|                N|\n",
            "|R3694ZMXNWOSLD|          5|           30|         32|   N|                Y|\n",
            "|R25KTU0XE7HPFL|          2|           16|         21|   N|                N|\n",
            "|R1HPJTXADM5O90|          5|           20|         26|   N|                Y|\n",
            "|R1LWZNA23Q4S53|          3|           30|         33|   N|                Y|\n",
            "|R145G6KA4XCN7U|          2|           21|         24|   N|                N|\n",
            "|R17KDLTHY2XQ0O|          5|           27|         32|   N|                Y|\n",
            "| RDCK7WCHJMT7U|          1|           34|         40|   N|                Y|\n",
            "| RM15BN9C54G1A|          2|           23|         28|   N|                Y|\n",
            "|R21TJNJWHZOZBP|          5|           17|         27|   N|                Y|\n",
            "| RU4398WUG9C5R|          2|           20|         22|   N|                Y|\n",
            "|R1GO5BJT4CBXWD|          5|           21|         23|   N|                Y|\n",
            "| R29TVXVBBXTY6|          5|           24|         27|   N|                Y|\n",
            "| R5GYWZBQTCG3J|          1|           31|         38|   N|                Y|\n",
            "|R310DG3QQVM83S|          2|           15|         20|   N|                Y|\n",
            "|R29YF3HELDMCYN|          2|           20|         22|   N|                Y|\n",
            "|R2WD8S5OSW7QVJ|          1|           16|         26|   N|                Y|\n",
            "|R2QX94XWHFC63Y|          3|           21|         21|   N|                Y|\n",
            "|R3RTI1AH93E7VZ|          5|           25|         27|   N|                N|\n",
            "|R1R9POHPM9TQ8V|          2|           20|         27|   N|                Y|\n",
            "|R3KIK3VSWU5LGT|          5|           15|         20|   N|                N|\n",
            "|R240XIJJ6G4AD2|          5|           31|         33|   N|                Y|\n",
            "|R1ETGHSRJ9915D|          3|           29|         29|   N|                Y|\n",
            "|R2K5OSZLSEJCSL|          3|           32|         35|   N|                Y|\n",
            "| RSFLKGLCBJUZ7|          1|           17|         21|   N|                N|\n",
            "|R17WYD1BSAHEP5|          2|           23|         28|   N|                Y|\n",
            "| RC5W566II783Y|          1|           20|         23|   N|                N|\n",
            "|R1N6PMRTPNX4E8|          1|           18|         21|   N|                Y|\n",
            "|R3HJ0P3OJKVAWC|          2|          141|        169|   N|                Y|\n",
            "|R2OEBFCYNS9KZ2|          5|           34|         36|   N|                N|\n",
            "|R2LK0PRT84TF97|          1|           16|         20|   N|                Y|\n",
            "|R11UCYDHY954B8|          5|           19|         21|   N|                Y|\n",
            "|R1HJ9FEA2VX03J|          2|           31|         37|   N|                Y|\n",
            "|R3QZA6QW7Z9COV|          5|           20|         22|   N|                N|\n",
            "|R30EGP42L4L7IL|          5|           20|         20|   N|                Y|\n",
            "| R8QB97PJ0U67Y|          1|           16|         21|   N|                Y|\n",
            "|R2R0WLV4UCTB67|          1|           20|         38|   N|                Y|\n",
            "| RO3QTFQ2XU8LB|          3|           17|         24|   N|                N|\n",
            "|R26H505RLH8R1L|          5|           33|         34|   N|                Y|\n",
            "|R13B5LTGW0U251|          1|           39|         46|   N|                N|\n",
            "|R1MPP8XLEI9ZZ9|          5|           30|         31|   N|                Y|\n",
            "| RJ26KJRRILC0I|          4|           20|         20|   N|                Y|\n",
            "|R3I0P4ZS6AUY5W|          1|           24|         44|   N|                Y|\n",
            "|R2HULFZLFM12B2|          5|           16|         31|   N|                Y|\n",
            "|R2HZKI0K5AJEZJ|          4|           94|        118|   N|                Y|\n",
            "| RUZUM7UPO0AYW|          2|           36|         38|   N|                Y|\n",
            "|R2QRGBAYB9639H|          5|           16|         21|   N|                Y|\n",
            "|R3HRSMW2KLAYML|          2|           25|         31|   N|                Y|\n",
            "|R3SW6WSH1M43VH|          5|           25|         26|   N|                Y|\n",
            "|R2QGEFP3P9EVNY|          5|           21|         24|   N|                Y|\n",
            "|R1NEISX0OXVUIQ|          5|           23|         23|   N|                Y|\n",
            "|R23LT6LL68PIU8|          4|           21|         22|   N|                N|\n",
            "|R3MMMYEOGJQY6I|          4|           51|         54|   N|                Y|\n",
            "| RQBFZ1RDRSRT2|          3|           52|         61|   N|                Y|\n",
            "|R2WS5CXCS6NWJY|          4|           15|         20|   N|                Y|\n",
            "|R1S0Z7WCVUFDTK|          1|           29|         33|   N|                Y|\n",
            "|R1GIXNC4PUXWLQ|          5|           21|         21|   N|                Y|\n",
            "| RB0OPRB0IWKTJ|          1|           19|         27|   N|                Y|\n",
            "|R1SX0UT12PCVOO|          1|           68|         75|   N|                N|\n",
            "|R2SMSO6CQDXHWY|          1|           18|         20|   N|                Y|\n",
            "|R3NGEMVBR4W0SB|          1|           13|         20|   N|                N|\n",
            "| RC2GBQ51ZFZUQ|          1|           21|         23|   N|                Y|\n",
            "|R24KPQPNINRUZF|          2|           48|         49|   N|                Y|\n",
            "|R1GSD3WLWM5PAD|          5|           27|         28|   N|                Y|\n",
            "|R2PS0KDUVLZVZD|          1|           24|         35|   N|                Y|\n",
            "|R2VYVV41S1CGIO|          1|          250|        284|   N|                Y|\n",
            "|R1U93TTYVK7B83|          4|           21|         22|   N|                Y|\n",
            "|R1JZ32G22W9AJN|          5|           29|         35|   N|                Y|\n",
            "| RX3H63EAAM4KT|          5|           17|         20|   N|                Y|\n",
            "|R2M2V1OCXC5LUP|          1|           14|         22|   N|                Y|\n",
            "|  RCU9ZGAV40SW|          5|           26|         26|   N|                N|\n",
            "|R3S7CX8XR313HD|          3|           44|         50|   N|                Y|\n",
            "| RKKWX1OAGXM6B|          5|           18|         23|   N|                Y|\n",
            "|R1C6OSV70TVDEX|          2|           19|         24|   N|                Y|\n",
            "| RJ8TZVLGZUOJX|          5|           24|         30|   N|                Y|\n",
            "|R1L4DLAMOJDJET|          2|           24|         25|   N|                Y|\n",
            "|R2Z8ZH7AWGV7ZG|          5|           21|         25|   N|                N|\n",
            "|R122M564R66U30|          1|           10|         20|   N|                N|\n",
            "|R33YROQ15530QV|          5|           84|         88|   N|                Y|\n",
            "| RFDF6VGA3MOPP|          2|           23|         30|   N|                N|\n",
            "|R2698L7K0N0AX7|          5|           35|         35|   N|                N|\n",
            "|R32VWLTXFLVRUP|          1|           33|         39|   N|                Y|\n",
            "|R3VIA4C6Y2XYE2|          3|           21|         22|   N|                Y|\n",
            "|R2X9YQULD595I1|          5|           26|         26|   N|                N|\n",
            "|R28JJIED5ESXBW|          5|           19|         21|   N|                N|\n",
            "|R3V0T48Q98I0MN|          5|           30|         32|   N|                N|\n",
            "| RJ7PJQ61WEXF4|          1|           15|         21|   N|                Y|\n",
            "|R33OWOY8T6MI5Z|          2|           28|         28|   N|                Y|\n",
            "|R2RDL9DNWM75CW|          3|           26|         32|   N|                Y|\n",
            "|R102NLZ04DA0XU|          5|           26|         26|   N|                Y|\n",
            "|R2MPE67FEASEZA|          5|           51|         65|   N|                Y|\n",
            "|R1N74U7ZO59TTB|          5|           20|         21|   N|                Y|\n",
            "|R281I13SQWUWN2|          1|           24|         25|   N|                Y|\n",
            "| R201ETJDAO0MV|          1|           20|         23|   N|                Y|\n",
            "| RB0AUULOHFOJW|          1|           31|         48|   N|                Y|\n",
            "|R1V7CFI3JXE6QN|          3|           21|         22|   N|                Y|\n",
            "|R2FZZ941ZGFRKY|          5|           28|         30|   N|                Y|\n",
            "|R3VSV3ZQ1ALOUC|          1|           30|         40|   N|                N|\n",
            "|R1YNKEWA6N5I6W|          1|           36|         40|   N|                Y|\n",
            "|R12B8NTJB1TF61|          1|          136|        147|   N|                Y|\n",
            "|R1C1W71ZKX4GRY|          5|           23|         33|   N|                Y|\n",
            "|R13IXC772VBV3S|          1|           13|         26|   N|                Y|\n",
            "|R1M4UEQ1WAYUAE|          1|           21|         23|   N|                Y|\n",
            "|R2D2Z6IS27VRSD|          5|           72|         73|   N|                N|\n",
            "| R1VZECUTDXEOM|          5|           19|         23|   N|                Y|\n",
            "|R3Q0P3EZLS5HFT|          5|           46|         52|   N|                Y|\n",
            "|R1CG79M9YN5617|          5|           21|         21|   N|                Y|\n",
            "+--------------+-----------+-------------+-----------+----+-----------------+\n",
            "only showing top 1000 rows\n",
            "\n"
          ]
        }
      ]
    },
    {
      "cell_type": "code",
      "source": [
        "#Filter on helpful_df - create new df taking all rows where reviews vine == 'Y'\n",
        "#NOTE: issue fixed - was applying show() on the filtered version without the actual creation of the new tables*.\n",
        "Y_helpful_df=helpful_df.filter(helpful_df[\"vine\"] ==\"Y\")\n",
        "Y_helpful_df.show()\n",
        "\n",
        "#NOTE: THERE IS NO 'Y\" in this column; all values appear to be 'N'*;\n"
      ],
      "metadata": {
        "colab": {
          "base_uri": "https://localhost:8080/"
        },
        "id": "Id3NIBLdPaBv",
        "outputId": "eb3996ab-3e23-49c1-ab23-d2c9dfb63dee"
      },
      "execution_count": 8,
      "outputs": [
        {
          "output_type": "stream",
          "name": "stdout",
          "text": [
            "+---------+-----------+-------------+-----------+----+-----------------+\n",
            "|review_id|star_rating|helpful_votes|total_votes|vine|verified_purchase|\n",
            "+---------+-----------+-------------+-----------+----+-----------------+\n",
            "+---------+-----------+-------------+-----------+----+-----------------+\n",
            "\n"
          ]
        }
      ]
    },
    {
      "cell_type": "code",
      "source": [
        "#Filter on helpful_df - create new df taking all rows where reviews vine == 'N'\n",
        "#NOTE: issue fixed - was applying show() on the filtered version without the actual creation of the new tables*.\n",
        "N_helpful_df=helpful_df.filter(helpful_df[\"vine\"] ==\"N\")\n",
        "N_helpful_df.show()\n"
      ],
      "metadata": {
        "colab": {
          "base_uri": "https://localhost:8080/"
        },
        "id": "RI84Y6YUQiuE",
        "outputId": "515cbf81-c04b-4eb4-f3b3-9628fb609b6a"
      },
      "execution_count": 9,
      "outputs": [
        {
          "output_type": "stream",
          "name": "stdout",
          "text": [
            "+--------------+-----------+-------------+-----------+----+-----------------+\n",
            "|     review_id|star_rating|helpful_votes|total_votes|vine|verified_purchase|\n",
            "+--------------+-----------+-------------+-----------+----+-----------------+\n",
            "|R39ESX43X1SA5T|          1|           36|         47|   N|                Y|\n",
            "|R31QRZ3JAMPBB4|          1|           16|         26|   N|                Y|\n",
            "|R23FKBEXURC3SN|          5|           28|         36|   N|                N|\n",
            "| RTRVYV0GWUTCK|          5|           18|         25|   N|                Y|\n",
            "|R3QLZAI37SNOOC|          2|           30|         31|   N|                Y|\n",
            "|R1QYZU3RS4CY4F|          5|           66|         76|   N|                N|\n",
            "|R2UR5OLN1BU87J|          2|           21|         23|   N|                Y|\n",
            "|R38NW44NY19VAZ|          5|           30|         32|   N|                Y|\n",
            "| RLUFKZ223OR3L|          2|           20|         23|   N|                N|\n",
            "|R3H9D0U7BCE6FU|          4|           23|         24|   N|                Y|\n",
            "|R2OG3RELTTD8B3|          4|           70|         73|   N|                N|\n",
            "| RP3K0YBQIVGXZ|          5|           57|         63|   N|                Y|\n",
            "|R3JFHXXGSKG1CE|          1|           17|         30|   N|                Y|\n",
            "| RJK1WCZZAQZ8V|          1|           67|         81|   N|                Y|\n",
            "|R3B5SVW0WVUHRB|          5|           23|         23|   N|                Y|\n",
            "|R2KYTL3780UJQP|          1|           50|         78|   N|                Y|\n",
            "|R298OT8VO3655T|          5|           22|         25|   N|                Y|\n",
            "|R22G9KVRZMFBGD|          5|           26|         26|   N|                N|\n",
            "|R2STEO5WQ426BH|          5|           21|         24|   N|                Y|\n",
            "|R28Z87RN6YSF25|          1|           39|         44|   N|                Y|\n",
            "+--------------+-----------+-------------+-----------+----+-----------------+\n",
            "only showing top 20 rows\n",
            "\n"
          ]
        }
      ]
    },
    {
      "cell_type": "code",
      "source": [
        "#Determine the total number of reviews, the number of 5-star reviews, and the percentage of 5-star reviews for the two types of review (paid vs unpaid).\n",
        "#This instance calculated on all data; no filters for 'y' or 'n' in the files*.\n",
        "#this is all that is needed since there is no variation on the metric of 'y' or 'n' for the vine column*.\n",
        "#all values are 'N'*.\n",
        "FIVE_STARS = helpful_df.filter(helpful_df[\"star_rating\"]== 5)\n",
        "FIVE_STARS.show()\n"
      ],
      "metadata": {
        "colab": {
          "base_uri": "https://localhost:8080/"
        },
        "id": "_dOyb7j5QidR",
        "outputId": "0349a672-d3df-4182-bcb6-4e5d61e15bbb"
      },
      "execution_count": 10,
      "outputs": [
        {
          "output_type": "stream",
          "name": "stdout",
          "text": [
            "+--------------+-----------+-------------+-----------+----+-----------------+\n",
            "|     review_id|star_rating|helpful_votes|total_votes|vine|verified_purchase|\n",
            "+--------------+-----------+-------------+-----------+----+-----------------+\n",
            "|R23FKBEXURC3SN|          5|           28|         36|   N|                N|\n",
            "| RTRVYV0GWUTCK|          5|           18|         25|   N|                Y|\n",
            "|R1QYZU3RS4CY4F|          5|           66|         76|   N|                N|\n",
            "|R38NW44NY19VAZ|          5|           30|         32|   N|                Y|\n",
            "| RP3K0YBQIVGXZ|          5|           57|         63|   N|                Y|\n",
            "|R3B5SVW0WVUHRB|          5|           23|         23|   N|                Y|\n",
            "|R298OT8VO3655T|          5|           22|         25|   N|                Y|\n",
            "|R22G9KVRZMFBGD|          5|           26|         26|   N|                N|\n",
            "|R2STEO5WQ426BH|          5|           21|         24|   N|                Y|\n",
            "| R4UL4LMRE1I8G|          5|           26|         29|   N|                Y|\n",
            "|R3IJ80HOKWJWLF|          5|          137|        158|   N|                Y|\n",
            "|R2ARY15ILA4FST|          5|           53|         57|   N|                Y|\n",
            "| RQ1Z9KSOXWEJM|          5|           56|         58|   N|                N|\n",
            "|R3R2NCOUD0J5ML|          5|           31|         35|   N|                Y|\n",
            "| R1F3B9LEC1LU0|          5|           33|         36|   N|                Y|\n",
            "|R1X2M96X9PVKA7|          5|           28|         29|   N|                Y|\n",
            "|R2FH1KGVLU48N3|          5|           30|         31|   N|                Y|\n",
            "|R2HC0OEQ8BBH84|          5|           36|         36|   N|                Y|\n",
            "|R3L0081CG4OPT4|          5|           22|         24|   N|                Y|\n",
            "|R1M5KH2R68XTK1|          5|           21|         21|   N|                Y|\n",
            "+--------------+-----------+-------------+-----------+----+-----------------+\n",
            "only showing top 20 rows\n",
            "\n"
          ]
        }
      ]
    },
    {
      "cell_type": "code",
      "source": [
        "#counting total 5 stars*.\n",
        "FIVE_STARS.count()\n"
      ],
      "metadata": {
        "colab": {
          "base_uri": "https://localhost:8080/"
        },
        "id": "GT9DcmlpVf-d",
        "outputId": "3e7decbc-55ef-4bf2-b9e7-1936af140f2e"
      },
      "execution_count": 11,
      "outputs": [
        {
          "output_type": "execute_result",
          "data": {
            "text/plain": [
              "24673"
            ]
          },
          "metadata": {},
          "execution_count": 11
        }
      ]
    },
    {
      "cell_type": "code",
      "source": [
        "#counts of paid reviews*. \n",
        "Y_helpful_df.count()"
      ],
      "metadata": {
        "colab": {
          "base_uri": "https://localhost:8080/"
        },
        "id": "bYNOyV1wVphQ",
        "outputId": "8018a447-3a62-493e-b68c-2dc183d8e66d"
      },
      "execution_count": 12,
      "outputs": [
        {
          "output_type": "execute_result",
          "data": {
            "text/plain": [
              "0"
            ]
          },
          "metadata": {},
          "execution_count": 12
        }
      ]
    },
    {
      "cell_type": "code",
      "source": [
        "#counts of nonpaid reviews*.\n",
        "N_helpful_df.count()\n"
      ],
      "metadata": {
        "colab": {
          "base_uri": "https://localhost:8080/"
        },
        "id": "bZUXL81UWFUq",
        "outputId": "7544a805-bb5a-4729-8e6a-ad81f843f103"
      },
      "execution_count": 13,
      "outputs": [
        {
          "output_type": "execute_result",
          "data": {
            "text/plain": [
              "65149"
            ]
          },
          "metadata": {},
          "execution_count": 13
        }
      ]
    },
    {
      "cell_type": "code",
      "source": [
        "#doing percentages of 5 star scores as well*.\n",
        "N_FIVE_STAR_HELP_DF = N_helpful_df.filter(helpful_df[\"star_rating\"]== 5)\n",
        "N_FIVE_STAR_HELP_DF.count()"
      ],
      "metadata": {
        "colab": {
          "base_uri": "https://localhost:8080/"
        },
        "id": "fVX6lB1rWlRJ",
        "outputId": "bc08d281-fa10-4cf9-a4de-33621e43d00d"
      },
      "execution_count": 16,
      "outputs": [
        {
          "output_type": "execute_result",
          "data": {
            "text/plain": [
              "24673"
            ]
          },
          "metadata": {},
          "execution_count": 16
        }
      ]
    },
    {
      "cell_type": "code",
      "source": [
        "#doing hte percentages of 5 star scores too*.\n",
        "Y_FIVE_STAR_HELP_DF = Y_helpful_df.filter(helpful_df[\"star_rating\"]== 5)\n",
        "Y_FIVE_STAR_HELP_DF.count()"
      ],
      "metadata": {
        "colab": {
          "base_uri": "https://localhost:8080/"
        },
        "id": "W_oFQdGW4MXC",
        "outputId": "cbefdb07-d7ae-4189-fbf1-298974e59075"
      },
      "execution_count": 17,
      "outputs": [
        {
          "output_type": "execute_result",
          "data": {
            "text/plain": [
              "0"
            ]
          },
          "metadata": {},
          "execution_count": 17
        }
      ]
    },
    {
      "cell_type": "code",
      "source": [
        "#percentage of reviews that were 5 stars*.\n",
        "#NOTE: comparing 5 star table with share of helpful_df table * they are derived from one another*.\n",
        "FIVE_STARS.count() / helpful_df.count()\n"
      ],
      "metadata": {
        "colab": {
          "base_uri": "https://localhost:8080/"
        },
        "id": "BeWOHT8N4nEy",
        "outputId": "9c9e0ae7-f703-4b44-ca23-c261dc2e9ea5"
      },
      "execution_count": 18,
      "outputs": [
        {
          "output_type": "execute_result",
          "data": {
            "text/plain": [
              "0.37871648068274266"
            ]
          },
          "metadata": {},
          "execution_count": 18
        }
      ]
    },
    {
      "cell_type": "code",
      "source": [
        "#running the same iteration above but only those with verified purchases*.\n",
        "#this was computed this way to add more diversity to teh anaylsis since there are no 'paid reviewed' items to assess*.\n",
        "FIVE_STARS.filter(FIVE_STARS[\"verified_purchase\"] == \"Y\").count()/helpful_df.filter(helpful_df[\"verified_purchase\"]== \"Y\").count()\n",
        "\n"
      ],
      "metadata": {
        "colab": {
          "base_uri": "https://localhost:8080/"
        },
        "id": "VZqMzrH-5xdJ",
        "outputId": "a8ff8842-0362-4a18-f8da-f1502a5b0dcd"
      },
      "execution_count": 19,
      "outputs": [
        {
          "output_type": "execute_result",
          "data": {
            "text/plain": [
              "0.3568664526625918"
            ]
          },
          "metadata": {},
          "execution_count": 19
        }
      ]
    },
    {
      "cell_type": "code",
      "source": [
        "#trying calculations on vine_df*.\n",
        "FIVE_STARS.count() / vine_df.count()\n",
        "\n"
      ],
      "metadata": {
        "colab": {
          "base_uri": "https://localhost:8080/"
        },
        "id": "Xeovi16i65eB",
        "outputId": "7fcb55a9-95ce-400e-bee1-d0b7b0d46d19"
      },
      "execution_count": 20,
      "outputs": [
        {
          "output_type": "execute_result",
          "data": {
            "text/plain": [
              "0.004836237695996211"
            ]
          },
          "metadata": {},
          "execution_count": 20
        }
      ]
    },
    {
      "cell_type": "code",
      "source": [
        "#trying calculations on vine_df*.\n",
        "FIVE_STARS.filter(FIVE_STARS[\"verified_purchase\"] == \"Y\").count()/vine_df.filter(vine_df[\"verified_purchase\"]== \"Y\").count()\n"
      ],
      "metadata": {
        "colab": {
          "base_uri": "https://localhost:8080/"
        },
        "id": "N9mjXlKZ7DGT",
        "outputId": "d202ee6f-9c63-497e-82a6-fc774a3cfa1c"
      },
      "execution_count": 21,
      "outputs": [
        {
          "output_type": "execute_result",
          "data": {
            "text/plain": [
              "0.0041170488843434196"
            ]
          },
          "metadata": {},
          "execution_count": 21
        }
      ]
    },
    {
      "cell_type": "code",
      "source": [
        "#doing the data on the columns of paid*.\n",
        "FIVE_STARS.count() / Y_helpful_df.count()\n",
        "\n",
        "\n"
      ],
      "metadata": {
        "colab": {
          "base_uri": "https://localhost:8080/",
          "height": 217
        },
        "id": "_WRuXmvJ7OKq",
        "outputId": "4ac27198-0c9d-4450-c865-8bfbfb1fce48"
      },
      "execution_count": 22,
      "outputs": [
        {
          "output_type": "error",
          "ename": "ZeroDivisionError",
          "evalue": "ignored",
          "traceback": [
            "\u001b[0;31m---------------------------------------------------------------------------\u001b[0m",
            "\u001b[0;31mZeroDivisionError\u001b[0m                         Traceback (most recent call last)",
            "\u001b[0;32m<ipython-input-22-28d222830e43>\u001b[0m in \u001b[0;36m<module>\u001b[0;34m()\u001b[0m\n\u001b[1;32m      1\u001b[0m \u001b[0;31m#doing the data on the columns of paid*.\u001b[0m\u001b[0;34m\u001b[0m\u001b[0;34m\u001b[0m\u001b[0;34m\u001b[0m\u001b[0m\n\u001b[0;32m----> 2\u001b[0;31m \u001b[0mFIVE_STARS\u001b[0m\u001b[0;34m.\u001b[0m\u001b[0mcount\u001b[0m\u001b[0;34m(\u001b[0m\u001b[0;34m)\u001b[0m \u001b[0;34m/\u001b[0m \u001b[0mY_helpful_df\u001b[0m\u001b[0;34m.\u001b[0m\u001b[0mcount\u001b[0m\u001b[0;34m(\u001b[0m\u001b[0;34m)\u001b[0m\u001b[0;34m\u001b[0m\u001b[0;34m\u001b[0m\u001b[0m\n\u001b[0m\u001b[1;32m      3\u001b[0m \u001b[0;34m\u001b[0m\u001b[0m\n\u001b[1;32m      4\u001b[0m \u001b[0;34m\u001b[0m\u001b[0m\n",
            "\u001b[0;31mZeroDivisionError\u001b[0m: division by zero"
          ]
        }
      ]
    },
    {
      "cell_type": "code",
      "source": [
        "#doing the data on the columns of paid*.\n",
        "FIVE_STARS.filter(FIVE_STARS[\"verified_purchase\"] == \"Y\").count()/Y_helpful_df.filter(Y_helpful_df[\"verified_purchase\"]== \"Y\").count()\n",
        "\n"
      ],
      "metadata": {
        "colab": {
          "base_uri": "https://localhost:8080/",
          "height": 200
        },
        "id": "IwgVzt1R7U5f",
        "outputId": "6b291f58-e4f0-463d-e9b8-47345fef7901"
      },
      "execution_count": 23,
      "outputs": [
        {
          "output_type": "error",
          "ename": "ZeroDivisionError",
          "evalue": "ignored",
          "traceback": [
            "\u001b[0;31m---------------------------------------------------------------------------\u001b[0m",
            "\u001b[0;31mZeroDivisionError\u001b[0m                         Traceback (most recent call last)",
            "\u001b[0;32m<ipython-input-23-b498138d7001>\u001b[0m in \u001b[0;36m<module>\u001b[0;34m()\u001b[0m\n\u001b[1;32m      1\u001b[0m \u001b[0;31m#doing the data on the columns of paid*.\u001b[0m\u001b[0;34m\u001b[0m\u001b[0;34m\u001b[0m\u001b[0;34m\u001b[0m\u001b[0m\n\u001b[0;32m----> 2\u001b[0;31m \u001b[0mFIVE_STARS\u001b[0m\u001b[0;34m.\u001b[0m\u001b[0mfilter\u001b[0m\u001b[0;34m(\u001b[0m\u001b[0mFIVE_STARS\u001b[0m\u001b[0;34m[\u001b[0m\u001b[0;34m\"verified_purchase\"\u001b[0m\u001b[0;34m]\u001b[0m \u001b[0;34m==\u001b[0m \u001b[0;34m\"Y\"\u001b[0m\u001b[0;34m)\u001b[0m\u001b[0;34m.\u001b[0m\u001b[0mcount\u001b[0m\u001b[0;34m(\u001b[0m\u001b[0;34m)\u001b[0m\u001b[0;34m/\u001b[0m\u001b[0mY_helpful_df\u001b[0m\u001b[0;34m.\u001b[0m\u001b[0mfilter\u001b[0m\u001b[0;34m(\u001b[0m\u001b[0mY_helpful_df\u001b[0m\u001b[0;34m[\u001b[0m\u001b[0;34m\"verified_purchase\"\u001b[0m\u001b[0;34m]\u001b[0m\u001b[0;34m==\u001b[0m \u001b[0;34m\"Y\"\u001b[0m\u001b[0;34m)\u001b[0m\u001b[0;34m.\u001b[0m\u001b[0mcount\u001b[0m\u001b[0;34m(\u001b[0m\u001b[0;34m)\u001b[0m\u001b[0;34m\u001b[0m\u001b[0;34m\u001b[0m\u001b[0m\n\u001b[0m\u001b[1;32m      3\u001b[0m \u001b[0;34m\u001b[0m\u001b[0m\n",
            "\u001b[0;31mZeroDivisionError\u001b[0m: division by zero"
          ]
        }
      ]
    },
    {
      "cell_type": "code",
      "source": [
        "#doing the data on the columns of UNpaid*.\n",
        "FIVE_STARS.count() / N_helpful_df.count()\n"
      ],
      "metadata": {
        "colab": {
          "base_uri": "https://localhost:8080/"
        },
        "id": "aEyW9G107c-J",
        "outputId": "77aac769-8679-45a3-b0c9-fb5a0855d115"
      },
      "execution_count": 24,
      "outputs": [
        {
          "output_type": "execute_result",
          "data": {
            "text/plain": [
              "0.37871648068274266"
            ]
          },
          "metadata": {},
          "execution_count": 24
        }
      ]
    },
    {
      "cell_type": "code",
      "source": [
        "#doing the data on the columns of UNpaid*.\n",
        "FIVE_STARS.filter(FIVE_STARS[\"verified_purchase\"] == \"Y\").count()/N_helpful_df.filter(N_helpful_df[\"verified_purchase\"]== \"Y\").count()"
      ],
      "metadata": {
        "colab": {
          "base_uri": "https://localhost:8080/"
        },
        "id": "trYyUojF7hSM",
        "outputId": "49ccfe74-bdae-4afe-a8dc-18aecc8c991e"
      },
      "execution_count": 25,
      "outputs": [
        {
          "output_type": "execute_result",
          "data": {
            "text/plain": [
              "0.3568664526625918"
            ]
          },
          "metadata": {},
          "execution_count": 25
        }
      ]
    },
    {
      "cell_type": "code",
      "source": [
        "#checking to see if an error was made earlier in the data manipulations*.\n",
        "#Are we certain that the total counts of paid reviewes are '0' in this dataset*.\n",
        "\n",
        "Testing_df = vote_count.filter(vote_count[\"helpful_votes\"]/vote_count[\"total_votes\"]>=0.5)\n"
      ],
      "metadata": {
        "id": "L1KYaAkH9KxK"
      },
      "execution_count": 28,
      "outputs": []
    },
    {
      "cell_type": "code",
      "source": [
        "Testing_df.filter(Testing_df[\"vine\"]==\"Y\").count()\n"
      ],
      "metadata": {
        "colab": {
          "base_uri": "https://localhost:8080/"
        },
        "id": "GyFOKY0u-S-d",
        "outputId": "c70a74b3-77d5-4798-9894-418074171963"
      },
      "execution_count": 29,
      "outputs": [
        {
          "output_type": "execute_result",
          "data": {
            "text/plain": [
              "0"
            ]
          },
          "metadata": {},
          "execution_count": 29
        }
      ]
    },
    {
      "cell_type": "code",
      "source": [
        "#the alternate method of coding the sequence shows again that the value is '0'\n",
        "#there are no paid reviews in this dataset*."
      ],
      "metadata": {
        "id": "jQdOL6hG-wHV"
      },
      "execution_count": null,
      "outputs": []
    }
  ]
}